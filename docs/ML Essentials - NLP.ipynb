{
    "nbformat": 4,
    "nbformat_minor": 0,
    
    "metadata": {
      "colab": {
        "provenance": [
          {
            "file_id": "10SDrxa0S_LEtWDsbNCAmFb7DqW5TH6tf",
            "timestamp": 1709574113390
          }
        ],
        "gpuType": "T4"
      },
      "kernelspec": {
        "name": "python3",
        "display_name": "Python 3"
      },
      "language_info": {
        "name": "python"
      },
      "accelerator": "GPU"
    },
    
    "cells": [
      {
        "cell_type": "code",
        "source": [
          "!pip install tensorflow-hub\n",
          "!pip install tensorflow-datasets"
        ],
        "metadata": {
          "colab": {
            "base_uri": "https://localhost:8080/"
          },
          "id": "yrEeDeiyQW1N",
          "executionInfo": {
            "status": "ok",
            "timestamp": 1709565643707,
            "user_tz": -240,
            "elapsed": 12423,
            "user": {
              "displayName": "Kayan Irani",
              "userId": "16819603326667996950"
            }
          },
          "outputId": "9a05b926-858d-44f2-ea49-33856eb74c2d"
        },
        "execution_count": null,
        "outputs": [
          {
            "output_type": "stream",
            "name": "stdout",
            "text": [
              "Requirement already satisfied: tensorflow-hub in /usr/local/lib/python3.10/dist-packages (0.16.1)\n",
              "Requirement already satisfied: numpy>=1.12.0 in /usr/local/lib/python3.10/dist-packages (from tensorflow-hub) (1.25.2)\n",
              "Requirement already satisfied: protobuf>=3.19.6 in /usr/local/lib/python3.10/dist-packages (from tensorflow-hub) (3.20.3)\n",
              "Requirement already satisfied: tf-keras>=2.14.1 in /usr/local/lib/python3.10/dist-packages (from tensorflow-hub) (2.15.0)\n",
              "Requirement already satisfied: tensorflow-datasets in /usr/local/lib/python3.10/dist-packages (4.9.4)\n",
              "Requirement already satisfied: absl-py in /usr/local/lib/python3.10/dist-packages (from tensorflow-datasets) (1.4.0)\n",
              "Requirement already satisfied: click in /usr/local/lib/python3.10/dist-packages (from tensorflow-datasets) (8.1.7)\n",
              "Requirement already satisfied: dm-tree in /usr/local/lib/python3.10/dist-packages (from tensorflow-datasets) (0.1.8)\n",
              "Requirement already satisfied: etils[enp,epath,etree]>=0.9.0 in /usr/local/lib/python3.10/dist-packages (from tensorflow-datasets) (1.7.0)\n",
              "Requirement already satisfied: numpy in /usr/local/lib/python3.10/dist-packages (from tensorflow-datasets) (1.25.2)\n",
              "Requirement already satisfied: promise in /usr/local/lib/python3.10/dist-packages (from tensorflow-datasets) (2.3)\n",
              "Requirement already satisfied: protobuf>=3.20 in /usr/local/lib/python3.10/dist-packages (from tensorflow-datasets) (3.20.3)\n",
              "Requirement already satisfied: psutil in /usr/local/lib/python3.10/dist-packages (from tensorflow-datasets) (5.9.5)\n",
              "Requirement already satisfied: requests>=2.19.0 in /usr/local/lib/python3.10/dist-packages (from tensorflow-datasets) (2.31.0)\n",
              "Requirement already satisfied: tensorflow-metadata in /usr/local/lib/python3.10/dist-packages (from tensorflow-datasets) (1.14.0)\n",
              "Requirement already satisfied: termcolor in /usr/local/lib/python3.10/dist-packages (from tensorflow-datasets) (2.4.0)\n",
              "Requirement already satisfied: toml in /usr/local/lib/python3.10/dist-packages (from tensorflow-datasets) (0.10.2)\n",
              "Requirement already satisfied: tqdm in /usr/local/lib/python3.10/dist-packages (from tensorflow-datasets) (4.66.2)\n",
              "Requirement already satisfied: wrapt in /usr/local/lib/python3.10/dist-packages (from tensorflow-datasets) (1.14.1)\n",
              "Requirement already satisfied: array-record>=0.5.0 in /usr/local/lib/python3.10/dist-packages (from tensorflow-datasets) (0.5.0)\n",
              "Requirement already satisfied: fsspec in /usr/local/lib/python3.10/dist-packages (from etils[enp,epath,etree]>=0.9.0->tensorflow-datasets) (2023.6.0)\n",
              "Requirement already satisfied: importlib_resources in /usr/local/lib/python3.10/dist-packages (from etils[enp,epath,etree]>=0.9.0->tensorflow-datasets) (6.1.2)\n",
              "Requirement already satisfied: typing_extensions in /usr/local/lib/python3.10/dist-packages (from etils[enp,epath,etree]>=0.9.0->tensorflow-datasets) (4.10.0)\n",
              "Requirement already satisfied: zipp in /usr/local/lib/python3.10/dist-packages (from etils[enp,epath,etree]>=0.9.0->tensorflow-datasets) (3.17.0)\n",
              "Requirement already satisfied: charset-normalizer<4,>=2 in /usr/local/lib/python3.10/dist-packages (from requests>=2.19.0->tensorflow-datasets) (3.3.2)\n",
              "Requirement already satisfied: idna<4,>=2.5 in /usr/local/lib/python3.10/dist-packages (from requests>=2.19.0->tensorflow-datasets) (3.6)\n",
              "Requirement already satisfied: urllib3<3,>=1.21.1 in /usr/local/lib/python3.10/dist-packages (from requests>=2.19.0->tensorflow-datasets) (2.0.7)\n",
              "Requirement already satisfied: certifi>=2017.4.17 in /usr/local/lib/python3.10/dist-packages (from requests>=2.19.0->tensorflow-datasets) (2024.2.2)\n",
              "Requirement already satisfied: six in /usr/local/lib/python3.10/dist-packages (from promise->tensorflow-datasets) (1.16.0)\n",
              "Requirement already satisfied: googleapis-common-protos<2,>=1.52.0 in /usr/local/lib/python3.10/dist-packages (from tensorflow-metadata->tensorflow-datasets) (1.62.0)\n"
            ]
          }
        ]
      },
      {
        "cell_type": "code",
        "source": [
          "import os\n",
          "import numpy as np\n",
          "\n",
          "import tensorflow as tf\n",
          "import tensorflow_hub as hub\n",
          "import tensorflow_datasets as tfds"
        ],
        "metadata": {
          "id": "F876E8eqQZdP"
        },
        "execution_count": null,
        "outputs": []
      },
      {
        "cell_type": "markdown",
        "source": [
          "# Natural Language Processing\n"
        ],
        "metadata": {
          "id": "GE1qHUwkMkE8"
        }
      },
      {
        "cell_type": "markdown",
        "source": [
          "## 1. Text Pre-processing"
        ],
        "metadata": {
          "id": "PvbmqJfeQI9M"
        }
      },
      {
        "cell_type": "markdown",
        "source": [
          "# 1.1 Loading the Dataset\n",
          "\n"
        ],
        "metadata": {
          "id": "qKsGTRRSQiyi"
        }
      },
      {
        "cell_type": "code",
        "source": [
          "tfds.list_builders()"
        ],
        "metadata": {
          "colab": {
            "base_uri": "https://localhost:8080/"
          },
          "id": "oxsCOY5nzJAk",
          "executionInfo": {
            "status": "ok",
            "timestamp": 1709565650256,
            "user_tz": -240,
            "elapsed": 1637,
            "user": {
              "displayName": "Kayan Irani",
              "userId": "16819603326667996950"
            }
          },
          "outputId": "95377860-66ff-4eb1-9872-667b610009b6"
        },
        "execution_count": null,
        "outputs": [
          {
            "output_type": "execute_result",
            "data": {
              "text/plain": [
                "['abstract_reasoning',\n",
                " 'accentdb',\n",
                " 'aeslc',\n",
                " 'aflw2k3d',\n",
                " 'ag_news_subset',\n",
                " 'ai2_arc',\n",
                " 'ai2_arc_with_ir',\n",
                " 'amazon_us_reviews',\n",
                " 'anli',\n",
                " 'answer_equivalence',\n",
                " 'arc',\n",
                " 'asqa',\n",
                " 'asset',\n",
                " 'assin2',\n",
                " 'asu_table_top_converted_externally_to_rlds',\n",
                " 'austin_buds_dataset_converted_externally_to_rlds',\n",
                " 'austin_sailor_dataset_converted_externally_to_rlds',\n",
                " 'austin_sirius_dataset_converted_externally_to_rlds',\n",
                " 'bair_robot_pushing_small',\n",
                " 'bc_z',\n",
                " 'bccd',\n",
                " 'beans',\n",
                " 'bee_dataset',\n",
                " 'beir',\n",
                " 'berkeley_autolab_ur5',\n",
                " 'berkeley_cable_routing',\n",
                " 'berkeley_fanuc_manipulation',\n",
                " 'berkeley_gnm_cory_hall',\n",
                " 'berkeley_gnm_recon',\n",
                " 'berkeley_gnm_sac_son',\n",
                " 'berkeley_mvp_converted_externally_to_rlds',\n",
                " 'berkeley_rpt_converted_externally_to_rlds',\n",
                " 'big_patent',\n",
                " 'bigearthnet',\n",
                " 'billsum',\n",
                " 'binarized_mnist',\n",
                " 'binary_alpha_digits',\n",
                " 'ble_wind_field',\n",
                " 'blimp',\n",
                " 'booksum',\n",
                " 'bool_q',\n",
                " 'bot_adversarial_dialogue',\n",
                " 'bridge',\n",
                " 'bucc',\n",
                " 'c4',\n",
                " 'c4_wsrs',\n",
                " 'caltech101',\n",
                " 'caltech_birds2010',\n",
                " 'caltech_birds2011',\n",
                " 'cardiotox',\n",
                " 'cars196',\n",
                " 'cassava',\n",
                " 'cats_vs_dogs',\n",
                " 'celeb_a',\n",
                " 'celeb_a_hq',\n",
                " 'cfq',\n",
                " 'cherry_blossoms',\n",
                " 'chexpert',\n",
                " 'cifar10',\n",
                " 'cifar100',\n",
                " 'cifar100_n',\n",
                " 'cifar10_1',\n",
                " 'cifar10_corrupted',\n",
                " 'cifar10_h',\n",
                " 'cifar10_n',\n",
                " 'citrus_leaves',\n",
                " 'cityscapes',\n",
                " 'civil_comments',\n",
                " 'clevr',\n",
                " 'clic',\n",
                " 'clinc_oos',\n",
                " 'cmaterdb',\n",
                " 'cmu_franka_exploration_dataset_converted_externally_to_rlds',\n",
                " 'cmu_play_fusion',\n",
                " 'cmu_stretch',\n",
                " 'cnn_dailymail',\n",
                " 'coco',\n",
                " 'coco_captions',\n",
                " 'coil100',\n",
                " 'colorectal_histology',\n",
                " 'colorectal_histology_large',\n",
                " 'columbia_cairlab_pusht_real',\n",
                " 'common_voice',\n",
                " 'conll2002',\n",
                " 'conll2003',\n",
                " 'controlled_noisy_web_labels',\n",
                " 'coqa',\n",
                " 'corr2cause',\n",
                " 'cos_e',\n",
                " 'cosmos_qa',\n",
                " 'covid19',\n",
                " 'covid19sum',\n",
                " 'crema_d',\n",
                " 'criteo',\n",
                " 'cs_restaurants',\n",
                " 'curated_breast_imaging_ddsm',\n",
                " 'cycle_gan',\n",
                " 'd4rl_adroit_door',\n",
                " 'd4rl_adroit_hammer',\n",
                " 'd4rl_adroit_pen',\n",
                " 'd4rl_adroit_relocate',\n",
                " 'd4rl_antmaze',\n",
                " 'd4rl_mujoco_ant',\n",
                " 'd4rl_mujoco_halfcheetah',\n",
                " 'd4rl_mujoco_hopper',\n",
                " 'd4rl_mujoco_walker2d',\n",
                " 'dart',\n",
                " 'databricks_dolly',\n",
                " 'davis',\n",
                " 'deep1b',\n",
                " 'deep_weeds',\n",
                " 'definite_pronoun_resolution',\n",
                " 'dementiabank',\n",
                " 'diabetic_retinopathy_detection',\n",
                " 'diamonds',\n",
                " 'div2k',\n",
                " 'dlr_edan_shared_control_converted_externally_to_rlds',\n",
                " 'dlr_sara_grid_clamp_converted_externally_to_rlds',\n",
                " 'dlr_sara_pour_converted_externally_to_rlds',\n",
                " 'dmlab',\n",
                " 'doc_nli',\n",
                " 'dolphin_number_word',\n",
                " 'domainnet',\n",
                " 'downsampled_imagenet',\n",
                " 'drop',\n",
                " 'dsprites',\n",
                " 'dtd',\n",
                " 'duke_ultrasound',\n",
                " 'e2e_cleaned',\n",
                " 'efron_morris75',\n",
                " 'emnist',\n",
                " 'eraser_multi_rc',\n",
                " 'esnli',\n",
                " 'eth_agent_affordances',\n",
                " 'eurosat',\n",
                " 'fashion_mnist',\n",
                " 'flic',\n",
                " 'flores',\n",
                " 'food101',\n",
                " 'forest_fires',\n",
                " 'fractal20220817_data',\n",
                " 'fuss',\n",
                " 'gap',\n",
                " 'geirhos_conflict_stimuli',\n",
                " 'gem',\n",
                " 'genomics_ood',\n",
                " 'german_credit_numeric',\n",
                " 'gigaword',\n",
                " 'glove100_angular',\n",
                " 'glue',\n",
                " 'goemotions',\n",
                " 'gov_report',\n",
                " 'gpt3',\n",
                " 'gref',\n",
                " 'groove',\n",
                " 'grounded_scan',\n",
                " 'gsm8k',\n",
                " 'gtzan',\n",
                " 'gtzan_music_speech',\n",
                " 'hellaswag',\n",
                " 'higgs',\n",
                " 'hillstrom',\n",
                " 'horses_or_humans',\n",
                " 'howell',\n",
                " 'i_naturalist2017',\n",
                " 'i_naturalist2018',\n",
                " 'i_naturalist2021',\n",
                " 'iamlab_cmu_pickup_insert_converted_externally_to_rlds',\n",
                " 'imagenet2012',\n",
                " 'imagenet2012_corrupted',\n",
                " 'imagenet2012_fewshot',\n",
                " 'imagenet2012_multilabel',\n",
                " 'imagenet2012_real',\n",
                " 'imagenet2012_subset',\n",
                " 'imagenet_a',\n",
                " 'imagenet_lt',\n",
                " 'imagenet_pi',\n",
                " 'imagenet_r',\n",
                " 'imagenet_resized',\n",
                " 'imagenet_sketch',\n",
                " 'imagenet_v2',\n",
                " 'imagenette',\n",
                " 'imagewang',\n",
                " 'imdb_reviews',\n",
                " 'imperialcollege_sawyer_wrist_cam',\n",
                " 'irc_disentanglement',\n",
                " 'iris',\n",
                " 'istella',\n",
                " 'jaco_play',\n",
                " 'kaist_nonprehensile_converted_externally_to_rlds',\n",
                " 'kddcup99',\n",
                " 'kitti',\n",
                " 'kmnist',\n",
                " 'kuka',\n",
                " 'laion400m',\n",
                " 'lambada',\n",
                " 'lfw',\n",
                " 'librispeech',\n",
                " 'librispeech_lm',\n",
                " 'libritts',\n",
                " 'ljspeech',\n",
                " 'lm1b',\n",
                " 'locomotion',\n",
                " 'lost_and_found',\n",
                " 'lsun',\n",
                " 'lvis',\n",
                " 'malaria',\n",
                " 'maniskill_dataset_converted_externally_to_rlds',\n",
                " 'math_dataset',\n",
                " 'math_qa',\n",
                " 'mctaco',\n",
                " 'media_sum',\n",
                " 'mlqa',\n",
                " 'mnist',\n",
                " 'mnist_corrupted',\n",
                " 'movie_lens',\n",
                " 'movie_rationales',\n",
                " 'movielens',\n",
                " 'moving_mnist',\n",
                " 'mrqa',\n",
                " 'mslr_web',\n",
                " 'mt_opt',\n",
                " 'mtnt',\n",
                " 'multi_news',\n",
                " 'multi_nli',\n",
                " 'multi_nli_mismatch',\n",
                " 'natural_instructions',\n",
                " 'natural_questions',\n",
                " 'natural_questions_open',\n",
                " 'newsroom',\n",
                " 'nsynth',\n",
                " 'nyu_depth_v2',\n",
                " 'nyu_door_opening_surprising_effectiveness',\n",
                " 'nyu_franka_play_dataset_converted_externally_to_rlds',\n",
                " 'nyu_rot_dataset_converted_externally_to_rlds',\n",
                " 'ogbg_molpcba',\n",
                " 'omniglot',\n",
                " 'open_images_challenge2019_detection',\n",
                " 'open_images_v4',\n",
                " 'openbookqa',\n",
                " 'opinion_abstracts',\n",
                " 'opinosis',\n",
                " 'opus',\n",
                " 'oxford_flowers102',\n",
                " 'oxford_iiit_pet',\n",
                " 'para_crawl',\n",
                " 'pass',\n",
                " 'patch_camelyon',\n",
                " 'paws_wiki',\n",
                " 'paws_x_wiki',\n",
                " 'penguins',\n",
                " 'pet_finder',\n",
                " 'pg19',\n",
                " 'piqa',\n",
                " 'places365_small',\n",
                " 'placesfull',\n",
                " 'plant_leaves',\n",
                " 'plant_village',\n",
                " 'plantae_k',\n",
                " 'protein_net',\n",
                " 'q_re_cc',\n",
                " 'qa4mre',\n",
                " 'qasc',\n",
                " 'quac',\n",
                " 'quality',\n",
                " 'quickdraw_bitmap',\n",
                " 'race',\n",
                " 'radon',\n",
                " 'real_toxicity_prompts',\n",
                " 'reddit',\n",
                " 'reddit_disentanglement',\n",
                " 'reddit_tifu',\n",
                " 'ref_coco',\n",
                " 'resisc45',\n",
                " 'rlu_atari',\n",
                " 'rlu_atari_checkpoints',\n",
                " 'rlu_atari_checkpoints_ordered',\n",
                " 'rlu_control_suite',\n",
                " 'rlu_dmlab_explore_object_rewards_few',\n",
                " 'rlu_dmlab_explore_object_rewards_many',\n",
                " 'rlu_dmlab_rooms_select_nonmatching_object',\n",
                " 'rlu_dmlab_rooms_watermaze',\n",
                " 'rlu_dmlab_seekavoid_arena01',\n",
                " 'rlu_locomotion',\n",
                " 'rlu_rwrl',\n",
                " 'robomimic_mg',\n",
                " 'robomimic_mh',\n",
                " 'robomimic_ph',\n",
                " 'robonet',\n",
                " 'robosuite_panda_pick_place_can',\n",
                " 'roboturk',\n",
                " 'rock_paper_scissors',\n",
                " 'rock_you',\n",
                " 's3o4d',\n",
                " 'salient_span_wikipedia',\n",
                " 'samsum',\n",
                " 'savee',\n",
                " 'scan',\n",
                " 'scene_parse150',\n",
                " 'schema_guided_dialogue',\n",
                " 'sci_tail',\n",
                " 'scicite',\n",
                " 'scientific_papers',\n",
                " 'scrolls',\n",
                " 'segment_anything',\n",
                " 'sentiment140',\n",
                " 'shapes3d',\n",
                " 'sift1m',\n",
                " 'simpte',\n",
                " 'siscore',\n",
                " 'smallnorb',\n",
                " 'smartwatch_gestures',\n",
                " 'snli',\n",
                " 'so2sat',\n",
                " 'speech_commands',\n",
                " 'spoken_digit',\n",
                " 'squad',\n",
                " 'squad_question_generation',\n",
                " 'stanford_dogs',\n",
                " 'stanford_hydra_dataset_converted_externally_to_rlds',\n",
                " 'stanford_kuka_multimodal_dataset_converted_externally_to_rlds',\n",
                " 'stanford_mask_vit_converted_externally_to_rlds',\n",
                " 'stanford_online_products',\n",
                " 'stanford_robocook_converted_externally_to_rlds',\n",
                " 'star_cfq',\n",
                " 'starcraft_video',\n",
                " 'stl10',\n",
                " 'story_cloze',\n",
                " 'summscreen',\n",
                " 'sun397',\n",
                " 'super_glue',\n",
                " 'svhn_cropped',\n",
                " 'symmetric_solids',\n",
                " 'taco_play',\n",
                " 'tao',\n",
                " 'tatoeba',\n",
                " 'ted_hrlr_translate',\n",
                " 'ted_multi_translate',\n",
                " 'tedlium',\n",
                " 'tf_flowers',\n",
                " 'the300w_lp',\n",
                " 'tiny_shakespeare',\n",
                " 'titanic',\n",
                " 'tokyo_u_lsmo_converted_externally_to_rlds',\n",
                " 'toto',\n",
                " 'trec',\n",
                " 'trivia_qa',\n",
                " 'tydi_qa',\n",
                " 'uc_merced',\n",
                " 'ucf101',\n",
                " 'ucsd_kitchen_dataset_converted_externally_to_rlds',\n",
                " 'ucsd_pick_and_place_dataset_converted_externally_to_rlds',\n",
                " 'uiuc_d3field',\n",
                " 'unified_qa',\n",
                " 'universal_dependencies',\n",
                " 'unnatural_instructions',\n",
                " 'usc_cloth_sim_converted_externally_to_rlds',\n",
                " 'user_libri_audio',\n",
                " 'user_libri_text',\n",
                " 'utaustin_mutex',\n",
                " 'utokyo_pr2_opening_fridge_converted_externally_to_rlds',\n",
                " 'utokyo_pr2_tabletop_manipulation_converted_externally_to_rlds',\n",
                " 'utokyo_saytap_converted_externally_to_rlds',\n",
                " 'utokyo_xarm_bimanual_converted_externally_to_rlds',\n",
                " 'utokyo_xarm_pick_and_place_converted_externally_to_rlds',\n",
                " 'vctk',\n",
                " 'viola',\n",
                " 'visual_domain_decathlon',\n",
                " 'voc',\n",
                " 'voxceleb',\n",
                " 'voxforge',\n",
                " 'waymo_open_dataset',\n",
                " 'web_graph',\n",
                " 'web_nlg',\n",
                " 'web_questions',\n",
                " 'webvid',\n",
                " 'wider_face',\n",
                " 'wiki40b',\n",
                " 'wiki_auto',\n",
                " 'wiki_bio',\n",
                " 'wiki_dialog',\n",
                " 'wiki_table_questions',\n",
                " 'wiki_table_text',\n",
                " 'wikiann',\n",
                " 'wikihow',\n",
                " 'wikipedia',\n",
                " 'wikipedia_toxicity_subtypes',\n",
                " 'wine_quality',\n",
                " 'winogrande',\n",
                " 'wit',\n",
                " 'wit_kaggle',\n",
                " 'wmt13_translate',\n",
                " 'wmt14_translate',\n",
                " 'wmt15_translate',\n",
                " 'wmt16_translate',\n",
                " 'wmt17_translate',\n",
                " 'wmt18_translate',\n",
                " 'wmt19_translate',\n",
                " 'wmt_t2t_translate',\n",
                " 'wmt_translate',\n",
                " 'wordnet',\n",
                " 'wsc273',\n",
                " 'xnli',\n",
                " 'xquad',\n",
                " 'xsum',\n",
                " 'xtreme_pawsx',\n",
                " 'xtreme_pos',\n",
                " 'xtreme_s',\n",
                " 'xtreme_xnli',\n",
                " 'yahoo_ltrc',\n",
                " 'yelp_polarity_reviews',\n",
                " 'yes_no',\n",
                " 'youtube_vis',\n",
                " 'huggingface:acronym_identification',\n",
                " 'huggingface:ade_corpus_v2',\n",
                " 'huggingface:adv_glue',\n",
                " 'huggingface:adversarial_qa',\n",
                " 'huggingface:aeslc',\n",
                " 'huggingface:afrikaans_ner_corpus',\n",
                " 'huggingface:ag_news',\n",
                " 'huggingface:ai2_arc',\n",
                " 'huggingface:air_dialogue',\n",
                " 'huggingface:ajgt_twitter_ar',\n",
                " 'huggingface:allegro_reviews',\n",
                " 'huggingface:allocine',\n",
                " 'huggingface:alt',\n",
                " 'huggingface:amazon_polarity',\n",
                " 'huggingface:amazon_reviews_multi',\n",
                " 'huggingface:amazon_us_reviews',\n",
                " 'huggingface:ambig_qa',\n",
                " 'huggingface:americas_nli',\n",
                " 'huggingface:ami',\n",
                " 'huggingface:amttl',\n",
                " 'huggingface:anli',\n",
                " 'huggingface:app_reviews',\n",
                " 'huggingface:aqua_rat',\n",
                " 'huggingface:aquamuse',\n",
                " 'huggingface:ar_cov19',\n",
                " 'huggingface:ar_res_reviews',\n",
                " 'huggingface:ar_sarcasm',\n",
                " 'huggingface:arabic_billion_words',\n",
                " 'huggingface:arabic_pos_dialect',\n",
                " 'huggingface:arabic_speech_corpus',\n",
                " 'huggingface:arcd',\n",
                " 'huggingface:arsentd_lev',\n",
                " 'huggingface:art',\n",
                " 'huggingface:arxiv_dataset',\n",
                " 'huggingface:ascent_kb',\n",
                " 'huggingface:aslg_pc12',\n",
                " 'huggingface:asnq',\n",
                " 'huggingface:asset',\n",
                " 'huggingface:assin',\n",
                " 'huggingface:assin2',\n",
                " 'huggingface:atomic',\n",
                " 'huggingface:autshumato',\n",
                " 'huggingface:babi_qa',\n",
                " 'huggingface:banking77',\n",
                " 'huggingface:bbaw_egyptian',\n",
                " 'huggingface:bbc_hindi_nli',\n",
                " 'huggingface:bc2gm_corpus',\n",
                " 'huggingface:beans',\n",
                " 'huggingface:best2009',\n",
                " 'huggingface:bianet',\n",
                " 'huggingface:bible_para',\n",
                " 'huggingface:big_patent',\n",
                " 'huggingface:bigbench',\n",
                " 'huggingface:billsum',\n",
                " 'huggingface:bing_coronavirus_query_set',\n",
                " 'huggingface:biomrc',\n",
                " 'huggingface:biosses',\n",
                " 'huggingface:biwi_kinect_head_pose',\n",
                " 'huggingface:blbooks',\n",
                " 'huggingface:blbooksgenre',\n",
                " 'huggingface:blended_skill_talk',\n",
                " 'huggingface:blimp',\n",
                " 'huggingface:blog_authorship_corpus',\n",
                " 'huggingface:bn_hate_speech',\n",
                " 'huggingface:bnl_newspapers',\n",
                " 'huggingface:bookcorpus',\n",
                " 'huggingface:bookcorpusopen',\n",
                " 'huggingface:boolq',\n",
                " 'huggingface:bprec',\n",
                " 'huggingface:break_data',\n",
                " 'huggingface:brwac',\n",
                " 'huggingface:bsd_ja_en',\n",
                " 'huggingface:bswac',\n",
                " 'huggingface:c3',\n",
                " 'huggingface:c4',\n",
                " 'huggingface:cail2018',\n",
                " 'huggingface:caner',\n",
                " 'huggingface:capes',\n",
                " 'huggingface:casino',\n",
                " 'huggingface:catalonia_independence',\n",
                " 'huggingface:cats_vs_dogs',\n",
                " 'huggingface:cawac',\n",
                " 'huggingface:cbt',\n",
                " 'huggingface:cc100',\n",
                " 'huggingface:cc_news',\n",
                " 'huggingface:ccaligned_multilingual',\n",
                " 'huggingface:cdsc',\n",
                " 'huggingface:cdt',\n",
                " 'huggingface:cedr',\n",
                " 'huggingface:cfq',\n",
                " 'huggingface:chr_en',\n",
                " 'huggingface:cifar10',\n",
                " 'huggingface:cifar100',\n",
                " 'huggingface:circa',\n",
                " 'huggingface:civil_comments',\n",
                " 'huggingface:clickbait_news_bg',\n",
                " 'huggingface:climate_fever',\n",
                " 'huggingface:clinc_oos',\n",
                " 'huggingface:clue',\n",
                " 'huggingface:cmrc2018',\n",
                " 'huggingface:cmu_hinglish_dog',\n",
                " 'huggingface:cnn_dailymail',\n",
                " 'huggingface:coached_conv_pref',\n",
                " 'huggingface:coarse_discourse',\n",
                " 'huggingface:codah',\n",
                " 'huggingface:code_search_net',\n",
                " 'huggingface:code_x_glue_cc_clone_detection_big_clone_bench',\n",
                " 'huggingface:code_x_glue_cc_clone_detection_poj104',\n",
                " 'huggingface:code_x_glue_cc_cloze_testing_all',\n",
                " 'huggingface:code_x_glue_cc_cloze_testing_maxmin',\n",
                " 'huggingface:code_x_glue_cc_code_completion_line',\n",
                " 'huggingface:code_x_glue_cc_code_completion_token',\n",
                " 'huggingface:code_x_glue_cc_code_refinement',\n",
                " 'huggingface:code_x_glue_cc_code_to_code_trans',\n",
                " 'huggingface:code_x_glue_cc_defect_detection',\n",
                " 'huggingface:code_x_glue_ct_code_to_text',\n",
                " 'huggingface:code_x_glue_tc_nl_code_search_adv',\n",
                " 'huggingface:code_x_glue_tc_text_to_code',\n",
                " 'huggingface:code_x_glue_tt_text_to_text',\n",
                " 'huggingface:com_qa',\n",
                " 'huggingface:common_gen',\n",
                " 'huggingface:common_language',\n",
                " 'huggingface:common_voice',\n",
                " 'huggingface:commonsense_qa',\n",
                " 'huggingface:competition_math',\n",
                " 'huggingface:compguesswhat',\n",
                " 'huggingface:conceptnet5',\n",
                " 'huggingface:conceptual_12m',\n",
                " 'huggingface:conceptual_captions',\n",
                " 'huggingface:conll2000',\n",
                " 'huggingface:conll2002',\n",
                " 'huggingface:conll2003',\n",
                " 'huggingface:conll2012_ontonotesv5',\n",
                " 'huggingface:conllpp',\n",
                " 'huggingface:consumer-finance-complaints',\n",
                " 'huggingface:conv_ai',\n",
                " 'huggingface:conv_ai_2',\n",
                " 'huggingface:conv_ai_3',\n",
                " 'huggingface:conv_questions',\n",
                " 'huggingface:coqa',\n",
                " 'huggingface:cord19',\n",
                " 'huggingface:cornell_movie_dialog',\n",
                " 'huggingface:cos_e',\n",
                " 'huggingface:cosmos_qa',\n",
                " 'huggingface:counter',\n",
                " 'huggingface:covid_qa_castorini',\n",
                " 'huggingface:covid_qa_deepset',\n",
                " 'huggingface:covid_qa_ucsd',\n",
                " 'huggingface:covid_tweets_japanese',\n",
                " 'huggingface:covost2',\n",
                " 'huggingface:cppe-5',\n",
                " 'huggingface:craigslist_bargains',\n",
                " 'huggingface:crawl_domain',\n",
                " 'huggingface:crd3',\n",
                " 'huggingface:crime_and_punish',\n",
                " 'huggingface:crows_pairs',\n",
                " 'huggingface:cryptonite',\n",
                " 'huggingface:cs_restaurants',\n",
                " 'huggingface:cuad',\n",
                " 'huggingface:curiosity_dialogs',\n",
                " 'huggingface:daily_dialog',\n",
                " 'huggingface:dane',\n",
                " 'huggingface:danish_political_comments',\n",
                " 'huggingface:dart',\n",
                " 'huggingface:datacommons_factcheck',\n",
                " 'huggingface:dbpedia_14',\n",
                " 'huggingface:dbrd',\n",
                " 'huggingface:deal_or_no_dialog',\n",
                " 'huggingface:definite_pronoun_resolution',\n",
                " 'huggingface:dengue_filipino',\n",
                " 'huggingface:dialog_re',\n",
                " 'huggingface:diplomacy_detection',\n",
                " 'huggingface:disaster_response_messages',\n",
                " 'huggingface:discofuse',\n",
                " 'huggingface:discovery',\n",
                " 'huggingface:disfl_qa',\n",
                " 'huggingface:doc2dial',\n",
                " 'huggingface:docred',\n",
                " 'huggingface:doqa',\n",
                " 'huggingface:dream',\n",
                " 'huggingface:drop',\n",
                " 'huggingface:duorc',\n",
                " 'huggingface:dutch_social',\n",
                " 'huggingface:dyk',\n",
                " 'huggingface:e2e_nlg',\n",
                " 'huggingface:e2e_nlg_cleaned',\n",
                " 'huggingface:ecb',\n",
                " 'huggingface:ecthr_cases',\n",
                " 'huggingface:eduge',\n",
                " 'huggingface:ehealth_kd',\n",
                " 'huggingface:eitb_parcc',\n",
                " 'huggingface:electricity_load_diagrams',\n",
                " 'huggingface:eli5',\n",
                " 'huggingface:eli5_category',\n",
                " 'huggingface:elkarhizketak',\n",
                " 'huggingface:emea',\n",
                " 'huggingface:emo',\n",
                " 'huggingface:emotion',\n",
                " 'huggingface:emotone_ar',\n",
                " 'huggingface:empathetic_dialogues',\n",
                " 'huggingface:enriched_web_nlg',\n",
                " 'huggingface:enwik8',\n",
                " 'huggingface:eraser_multi_rc',\n",
                " 'huggingface:esnli',\n",
                " 'huggingface:eth_py150_open',\n",
                " 'huggingface:ethos',\n",
                " 'huggingface:ett',\n",
                " 'huggingface:eu_regulatory_ir',\n",
                " 'huggingface:eurlex',\n",
                " 'huggingface:euronews',\n",
                " 'huggingface:europa_eac_tm',\n",
                " 'huggingface:europa_ecdc_tm',\n",
                " 'huggingface:europarl_bilingual',\n",
                " 'huggingface:event2Mind',\n",
                " 'huggingface:evidence_infer_treatment',\n",
                " 'huggingface:exams',\n",
                " 'huggingface:factckbr',\n",
                " 'huggingface:fake_news_english',\n",
                " 'huggingface:fake_news_filipino',\n",
                " 'huggingface:farsi_news',\n",
                " 'huggingface:fashion_mnist',\n",
                " 'huggingface:fever',\n",
                " 'huggingface:few_rel',\n",
                " 'huggingface:financial_phrasebank',\n",
                " 'huggingface:finer',\n",
                " 'huggingface:flores',\n",
                " 'huggingface:flue',\n",
                " 'huggingface:food101',\n",
                " 'huggingface:fquad',\n",
                " 'huggingface:freebase_qa',\n",
                " 'huggingface:gap',\n",
                " 'huggingface:gem',\n",
                " 'huggingface:generated_reviews_enth',\n",
                " 'huggingface:generics_kb',\n",
                " 'huggingface:german_legal_entity_recognition',\n",
                " 'huggingface:germaner',\n",
                " 'huggingface:germeval_14',\n",
                " 'huggingface:giga_fren',\n",
                " 'huggingface:gigaword',\n",
                " 'huggingface:glucose',\n",
                " 'huggingface:glue',\n",
                " 'huggingface:gnad10',\n",
                " 'huggingface:go_emotions',\n",
                " 'huggingface:gooaq',\n",
                " 'huggingface:google_wellformed_query',\n",
                " 'huggingface:grail_qa',\n",
                " 'huggingface:great_code',\n",
                " 'huggingface:greek_legal_code',\n",
                " 'huggingface:gsm8k',\n",
                " 'huggingface:guardian_authorship',\n",
                " 'huggingface:gutenberg_time',\n",
                " 'huggingface:hans',\n",
                " 'huggingface:hansards',\n",
                " 'huggingface:hard',\n",
                " 'huggingface:harem',\n",
                " 'huggingface:has_part',\n",
                " 'huggingface:hate_offensive',\n",
                " 'huggingface:hate_speech18',\n",
                " 'huggingface:hate_speech_filipino',\n",
                " 'huggingface:hate_speech_offensive',\n",
                " 'huggingface:hate_speech_pl',\n",
                " 'huggingface:hate_speech_portuguese',\n",
                " 'huggingface:hatexplain',\n",
                " 'huggingface:hausa_voa_ner',\n",
                " 'huggingface:hausa_voa_topics',\n",
                " 'huggingface:hda_nli_hindi',\n",
                " 'huggingface:head_qa',\n",
                " 'huggingface:health_fact',\n",
                " 'huggingface:hebrew_projectbenyehuda',\n",
                " 'huggingface:hebrew_sentiment',\n",
                " 'huggingface:hebrew_this_world',\n",
                " 'huggingface:hellaswag',\n",
                " 'huggingface:hendrycks_test',\n",
                " 'huggingface:hind_encorp',\n",
                " 'huggingface:hindi_discourse',\n",
                " 'huggingface:hippocorpus',\n",
                " 'huggingface:hkcancor',\n",
                " 'huggingface:hlgd',\n",
                " 'huggingface:hope_edi',\n",
                " 'huggingface:hotpot_qa',\n",
                " 'huggingface:hover',\n",
                " 'huggingface:hrenwac_para',\n",
                " 'huggingface:hrwac',\n",
                " 'huggingface:humicroedit',\n",
                " 'huggingface:hybrid_qa',\n",
                " 'huggingface:hyperpartisan_news_detection',\n",
                " 'huggingface:iapp_wiki_qa_squad',\n",
                " 'huggingface:id_clickbait',\n",
                " 'huggingface:id_liputan6',\n",
                " 'huggingface:id_nergrit_corpus',\n",
                " 'huggingface:id_newspapers_2018',\n",
                " 'huggingface:id_panl_bppt',\n",
                " 'huggingface:id_puisi',\n",
                " 'huggingface:igbo_english_machine_translation',\n",
                " 'huggingface:igbo_monolingual',\n",
                " 'huggingface:igbo_ner',\n",
                " 'huggingface:ilist',\n",
                " 'huggingface:imagenet-1k',\n",
                " 'huggingface:imagenet_sketch',\n",
                " 'huggingface:imdb',\n",
                " 'huggingface:imdb_urdu_reviews',\n",
                " 'huggingface:imppres',\n",
                " 'huggingface:indic_glue',\n",
                " 'huggingface:indonli',\n",
                " 'huggingface:indonlu',\n",
                " 'huggingface:inquisitive_qg',\n",
                " 'huggingface:interpress_news_category_tr',\n",
                " 'huggingface:interpress_news_category_tr_lite',\n",
                " 'huggingface:irc_disentangle',\n",
                " 'huggingface:isixhosa_ner_corpus',\n",
                " 'huggingface:isizulu_ner_corpus',\n",
                " 'huggingface:iwslt2017',\n",
                " 'huggingface:jeopardy',\n",
                " 'huggingface:jfleg',\n",
                " 'huggingface:jigsaw_toxicity_pred',\n",
                " 'huggingface:jigsaw_unintended_bias',\n",
                " 'huggingface:jnlpba',\n",
                " 'huggingface:journalists_questions',\n",
                " 'huggingface:kan_hope',\n",
                " 'huggingface:kannada_news',\n",
                " 'huggingface:kd_conv',\n",
                " 'huggingface:kde4',\n",
                " 'huggingface:kelm',\n",
                " 'huggingface:kilt_tasks',\n",
                " 'huggingface:kilt_wikipedia',\n",
                " 'huggingface:kinnews_kirnews',\n",
                " 'huggingface:klue',\n",
                " 'huggingface:kor_3i4k',\n",
                " 'huggingface:kor_hate',\n",
                " 'huggingface:kor_ner',\n",
                " 'huggingface:kor_nli',\n",
                " 'huggingface:kor_nlu',\n",
                " 'huggingface:kor_qpair',\n",
                " 'huggingface:kor_sae',\n",
                " 'huggingface:kor_sarcasm',\n",
                " 'huggingface:labr',\n",
                " 'huggingface:lama',\n",
                " 'huggingface:lambada',\n",
                " 'huggingface:large_spanish_corpus',\n",
                " 'huggingface:laroseda',\n",
                " 'huggingface:lc_quad',\n",
                " 'huggingface:lccc',\n",
                " 'huggingface:lener_br',\n",
                " 'huggingface:lex_glue',\n",
                " 'huggingface:liar',\n",
                " 'huggingface:librispeech_asr',\n",
                " 'huggingface:librispeech_lm',\n",
                " 'huggingface:limit',\n",
                " 'huggingface:lince',\n",
                " 'huggingface:linnaeus',\n",
                " 'huggingface:liveqa',\n",
                " 'huggingface:lj_speech',\n",
                " 'huggingface:lm1b',\n",
                " 'huggingface:lst20',\n",
                " 'huggingface:m_lama',\n",
                " 'huggingface:mac_morpho',\n",
                " 'huggingface:makhzan',\n",
                " 'huggingface:masakhaner',\n",
                " 'huggingface:math_dataset',\n",
                " 'huggingface:math_qa',\n",
                " 'huggingface:matinf',\n",
                " 'huggingface:mbpp',\n",
                " 'huggingface:mc4',\n",
                " 'huggingface:mc_taco',\n",
                " 'huggingface:md_gender_bias',\n",
                " 'huggingface:mdd',\n",
                " 'huggingface:med_hop',\n",
                " 'huggingface:medal',\n",
                " 'huggingface:medical_dialog',\n",
                " 'huggingface:medical_questions_pairs',\n",
                " 'huggingface:medmcqa',\n",
                " 'huggingface:menyo20k_mt',\n",
                " 'huggingface:meta_woz',\n",
                " 'huggingface:metashift',\n",
                " 'huggingface:metooma',\n",
                " 'huggingface:metrec',\n",
                " 'huggingface:miam',\n",
                " 'huggingface:mkb',\n",
                " 'huggingface:mkqa',\n",
                " 'huggingface:mlqa',\n",
                " 'huggingface:mlsum',\n",
                " 'huggingface:mnist',\n",
                " 'huggingface:mocha',\n",
                " 'huggingface:monash_tsf',\n",
                " 'huggingface:moroco',\n",
                " 'huggingface:movie_rationales',\n",
                " 'huggingface:mrqa',\n",
                " 'huggingface:ms_marco',\n",
                " 'huggingface:ms_terms',\n",
                " 'huggingface:msr_genomics_kbcomp',\n",
                " 'huggingface:msr_sqa',\n",
                " 'huggingface:msr_text_compression',\n",
                " 'huggingface:msr_zhen_translation_parity',\n",
                " 'huggingface:msra_ner',\n",
                " 'huggingface:mt_eng_vietnamese',\n",
                " 'huggingface:muchocine',\n",
                " 'huggingface:multi_booked',\n",
                " 'huggingface:multi_eurlex',\n",
                " 'huggingface:multi_news',\n",
                " 'huggingface:multi_nli',\n",
                " 'huggingface:multi_nli_mismatch',\n",
                " 'huggingface:multi_para_crawl',\n",
                " 'huggingface:multi_re_qa',\n",
                " 'huggingface:multi_woz_v22',\n",
                " 'huggingface:multi_x_science_sum',\n",
                " 'huggingface:multidoc2dial',\n",
                " 'huggingface:multilingual_librispeech',\n",
                " 'huggingface:mutual_friends',\n",
                " 'huggingface:mwsc',\n",
                " 'huggingface:myanmar_news',\n",
                " 'huggingface:narrativeqa',\n",
                " 'huggingface:narrativeqa_manual',\n",
                " 'huggingface:natural_questions',\n",
                " 'huggingface:ncbi_disease',\n",
                " 'huggingface:nchlt',\n",
                " 'huggingface:ncslgr',\n",
                " 'huggingface:nell',\n",
                " 'huggingface:neural_code_search',\n",
                " 'huggingface:news_commentary',\n",
                " 'huggingface:newsgroup',\n",
                " 'huggingface:newsph',\n",
                " 'huggingface:newsph_nli',\n",
                " 'huggingface:newspop',\n",
                " 'huggingface:newsqa',\n",
                " 'huggingface:newsroom',\n",
                " 'huggingface:nkjp-ner',\n",
                " 'huggingface:nli_tr',\n",
                " 'huggingface:nlu_evaluation_data',\n",
                " 'huggingface:norec',\n",
                " 'huggingface:norne',\n",
                " 'huggingface:norwegian_ner',\n",
                " 'huggingface:nq_open',\n",
                " 'huggingface:nsmc',\n",
                " 'huggingface:numer_sense',\n",
                " 'huggingface:numeric_fused_head',\n",
                " 'huggingface:oclar',\n",
                " 'huggingface:offcombr',\n",
                " 'huggingface:offenseval2020_tr',\n",
                " 'huggingface:offenseval_dravidian',\n",
                " 'huggingface:ofis_publik',\n",
                " 'huggingface:ohsumed',\n",
                " 'huggingface:ollie',\n",
                " 'huggingface:omp',\n",
                " 'huggingface:onestop_english',\n",
                " 'huggingface:onestop_qa',\n",
                " 'huggingface:open_subtitles',\n",
                " 'huggingface:openai_humaneval',\n",
                " 'huggingface:openbookqa',\n",
                " 'huggingface:openslr',\n",
                " 'huggingface:openwebtext',\n",
                " 'huggingface:opinosis',\n",
                " 'huggingface:opus100',\n",
                " 'huggingface:opus_books',\n",
                " 'huggingface:opus_dgt',\n",
                " 'huggingface:opus_dogc',\n",
                " 'huggingface:opus_elhuyar',\n",
                " 'huggingface:opus_euconst',\n",
                " 'huggingface:opus_finlex',\n",
                " 'huggingface:opus_fiskmo',\n",
                " 'huggingface:opus_gnome',\n",
                " 'huggingface:opus_infopankki',\n",
                " 'huggingface:opus_memat',\n",
                " 'huggingface:opus_montenegrinsubs',\n",
                " 'huggingface:opus_openoffice',\n",
                " 'huggingface:opus_paracrawl',\n",
                " 'huggingface:opus_rf',\n",
                " 'huggingface:opus_tedtalks',\n",
                " 'huggingface:opus_ubuntu',\n",
                " 'huggingface:opus_wikipedia',\n",
                " 'huggingface:opus_xhosanavy',\n",
                " 'huggingface:orange_sum',\n",
                " 'huggingface:oscar',\n",
                " 'huggingface:para_crawl',\n",
                " 'huggingface:para_pat',\n",
                " 'huggingface:parsinlu_reading_comprehension',\n",
                " 'huggingface:pass',\n",
                " 'huggingface:paws',\n",
                " 'huggingface:paws-x',\n",
                " 'huggingface:pec',\n",
                " 'huggingface:peer_read',\n",
                " 'huggingface:peoples_daily_ner',\n",
                " 'huggingface:per_sent',\n",
                " 'huggingface:persian_ner',\n",
                " 'huggingface:pg19',\n",
                " 'huggingface:php',\n",
                " 'huggingface:piaf',\n",
                " 'huggingface:pib',\n",
                " 'huggingface:piqa',\n",
                " 'huggingface:pn_summary',\n",
                " 'huggingface:poem_sentiment',\n",
                " 'huggingface:polemo2',\n",
                " 'huggingface:poleval2019_cyberbullying',\n",
                " 'huggingface:poleval2019_mt',\n",
                " 'huggingface:polsum',\n",
                " 'huggingface:polyglot_ner',\n",
                " 'huggingface:prachathai67k',\n",
                " 'huggingface:pragmeval',\n",
                " 'huggingface:proto_qa',\n",
                " 'huggingface:psc',\n",
                " 'huggingface:ptb_text_only',\n",
                " 'huggingface:pubmed',\n",
                " 'huggingface:pubmed_qa',\n",
                " 'huggingface:py_ast',\n",
                " 'huggingface:qa4mre',\n",
                " 'huggingface:qa_srl',\n",
                " 'huggingface:qa_zre',\n",
                " 'huggingface:qangaroo',\n",
                " 'huggingface:qanta',\n",
                " 'huggingface:qasc',\n",
                " 'huggingface:qasper',\n",
                " 'huggingface:qed',\n",
                " 'huggingface:qed_amara',\n",
                " 'huggingface:quac',\n",
                " 'huggingface:quail',\n",
                " 'huggingface:quarel',\n",
                " 'huggingface:quartz',\n",
                " 'huggingface:quickdraw',\n",
                " 'huggingface:quora',\n",
                " 'huggingface:quoref',\n",
                " 'huggingface:race',\n",
                " 'huggingface:re_dial',\n",
                " 'huggingface:reasoning_bg',\n",
                " 'huggingface:recipe_nlg',\n",
                " 'huggingface:reclor',\n",
                " 'huggingface:red_caps',\n",
                " 'huggingface:reddit',\n",
                " 'huggingface:reddit_tifu',\n",
                " 'huggingface:refresd',\n",
                " 'huggingface:reuters21578',\n",
                " 'huggingface:riddle_sense',\n",
                " 'huggingface:ro_sent',\n",
                " 'huggingface:ro_sts',\n",
                " 'huggingface:ro_sts_parallel',\n",
                " 'huggingface:roman_urdu',\n",
                " 'huggingface:roman_urdu_hate_speech',\n",
                " 'huggingface:ronec',\n",
                " 'huggingface:ropes',\n",
                " 'huggingface:rotten_tomatoes',\n",
                " 'huggingface:russian_super_glue',\n",
                " 'huggingface:rvl_cdip',\n",
                " 'huggingface:s2orc',\n",
                " 'huggingface:samsum',\n",
                " 'huggingface:sanskrit_classic',\n",
                " 'huggingface:saudinewsnet',\n",
                " 'huggingface:sberquad',\n",
                " 'huggingface:sbu_captions',\n",
                " 'huggingface:scan',\n",
                " 'huggingface:scb_mt_enth_2020',\n",
                " 'huggingface:scene_parse_150',\n",
                " 'huggingface:schema_guided_dstc8',\n",
                " 'huggingface:scicite',\n",
                " 'huggingface:scielo',\n",
                " 'huggingface:scientific_papers',\n",
                " 'huggingface:scifact',\n",
                " 'huggingface:sciq',\n",
                " 'huggingface:scitail',\n",
                " 'huggingface:scitldr',\n",
                " 'huggingface:search_qa',\n",
                " 'huggingface:sede',\n",
                " 'huggingface:selqa',\n",
                " 'huggingface:sem_eval_2010_task_8',\n",
                " 'huggingface:sem_eval_2014_task_1',\n",
                " 'huggingface:sem_eval_2018_task_1',\n",
                " 'huggingface:sem_eval_2020_task_11',\n",
                " 'huggingface:sent_comp',\n",
                " 'huggingface:senti_lex',\n",
                " 'huggingface:senti_ws',\n",
                " 'huggingface:sentiment140',\n",
                " 'huggingface:sepedi_ner',\n",
                " 'huggingface:sesotho_ner_corpus',\n",
                " 'huggingface:setimes',\n",
                " 'huggingface:setswana_ner_corpus',\n",
                " 'huggingface:sharc',\n",
                " 'huggingface:sharc_modified',\n",
                " 'huggingface:sick',\n",
                " 'huggingface:silicone',\n",
                " 'huggingface:simple_questions_v2',\n",
                " 'huggingface:siswati_ner_corpus',\n",
                " 'huggingface:smartdata',\n",
                " 'huggingface:sms_spam',\n",
                " 'huggingface:snips_built_in_intents',\n",
                " 'huggingface:snli',\n",
                " 'huggingface:snow_simplified_japanese_corpus',\n",
                " 'huggingface:so_stacksample',\n",
                " 'huggingface:social_bias_frames',\n",
                " 'huggingface:social_i_qa',\n",
                " 'huggingface:sofc_materials_articles',\n",
                " ...]"
              ]
            },
            "metadata": {},
            "execution_count": 3
          }
        ]
      },
      {
        "cell_type": "markdown",
        "source": [
          "We will be using the imdb reviews dataset as our dataset for the session today. This is a text classification dataset where each label can be 0 or 1, indicating a positive or negative review."
        ],
        "metadata": {
          "id": "MqciXPj5SHZK"
        }
      },
      {
        "cell_type": "code",
        "execution_count": null,
        "metadata": {
          "id": "lacOZSJuDPdp",
          "colab": {
            "base_uri": "https://localhost:8080/",
            "height": 136,
            "referenced_widgets": [
              "aa4e742201ce429182f475c29a9eb1ab",
              "f1065d3d56bc486f8f371d4dcc4213d2",
              "cf5e683bab4e4054bc034b3bd21506ac",
              "7b2b462befd945419453d8c666703e09",
              "5b77840010614a9890d4503a8ec3f764",
              "e5f433fe7baf4956846696850af32743",
              "0f92354affc1445aa3c68e9669657f6b",
              "03d30b474d1f4f9a88ca79dc7b53f8fd",
              "805f8e34288b4b8a8e86d7e0fa058311",
              "aac5023590b44636954d6c347fa0960c",
              "74824f619c5c4daf84753713099328d1",
              "46e22b0c5c374d298bc08235a65fa39f",
              "80c2e4df7563424cb5a54f631f0f5904",
              "7d9ed40e7902439db61c5290f80317ed",
              "1e33a9507d624d72b3db1d79820f31e4",
              "61f364646a774e4b9cb762d98322638d",
              "def4201fe36845bfabad49d8149231d4",
              "9d2408aa8796434491b6e1c86ac39cd5",
              "bf2c3321de814dff8d84ad4412c29016",
              "bfc3fd37439e4c9b8ae15b65cf12a8ec",
              "4b95ee204b3d4c75a0a595f284aa5d91",
              "bb505b91fab9449b92bc8e624c47f7a7",
              "be1046637a5c45c28599b0a89dbe4f59",
              "552e6e130469476483eee58bdf49c4d6",
              "cc75a8f04ee345e2beaceac616f702af",
              "259cfbfe0aab4bc0a1cdc657b0daaeb7",
              "9f81cc470ea7498eaab9c95c8f10f904",
              "3d22b10ce84a447ba80aa42288d25085",
              "6adb6a70fc9c4839b40d5d910716ca59",
              "9552a029dd184219a4a8a569c6fdb008",
              "92e714cd5d964ddc8222f191da0fb92d",
              "23ce3c13ef654acbb7cd1a00c15b698b",
              "ac5682b6602d4522a5280c81583c8484",
              "3e456e0d038f4318b727c1189691770f",
              "f5c9ec3bc12b4cabba7905fa7e79aafd",
              "1452204ce4364ac990820555d98bc26e",
              "19991300e4b74f359741601bc29e1871",
              "ba6e27f91c4244bea7b9528a90b9f81a",
              "0ba75193147c41cabb8ec1dd73d64325",
              "782f70ac5e3b440ab1dde36389f99997",
              "df227405d48346c6bf3f6d71fa93b8a3",
              "69fd8d2b1f3b46cdb1fdde3c9f7abc77",
              "78dff352017b4a2db186d71653b97c96",
              "2baf109dfbee4754bdac52f44048e13b",
              "98adc2d42b5c4e26b96a8b1eb01c0d95",
              "4c7bae7a805f418a9949a67b02ffba5a",
              "d73b8cacac494d7a8ff366dbf3f7571b",
              "f3e2c14025e94c35ab5887bddc6dd8c4",
              "40376e9e508e4aa6995940a308ad3bd8",
              "7496bd87e6ab4c8c9b8cd4436c1c5f39",
              "0b947865f1494603a20e6f76c900e5f0",
              "52ff8438f668411c9d79fd43dd045dda",
              "ce4da8f24792449a9bc4749eb82c3e2a",
              "ea7f5e96af944af39cb3bc02c43cf09a",
              "9af60e0d8a694966ba86f2dea3c55e7c",
              "edf69e90a63140b0bdf49334547b9942",
              "c4d73db8825443e29aa2fe5c54220024",
              "df62c6c8491e4b49bfda7e4867965dde",
              "d1b2195d73f742399291ceda0a168fa4",
              "0d1c24349fcf4f3e8be2e4d1b54fde32",
              "0091a7b390a247349fbdd16d422bf729",
              "084ffff70b0a4ef1aa40a3574e2c3c15",
              "0e418ba6b2d64906bb205e4e9384ff47",
              "2f57ba3e50844df78a809f80a2531d64",
              "67c35bb46cbd438a9b9b751ad41cc40c",
              "304462b4d1e54f3db9be2d31acaf3cb8",
              "3bbd90531204440ca6b8ea67384c115d",
              "533ba68cfdda4f689dafd55521ba7197",
              "4e413b91a6ba48ec8b2418d4a5dd1bf1",
              "f2d00d24733247c4af7954f9affa7bdc",
              "adc7dd54a70f4158894b9b932a967bef",
              "c7f83945529d4677a65b383accb18250",
              "4e092e6a5bf84a2ca2043c9d8e739ca5",
              "ceb969adbcff4cb2a5f780e326fd3239",
              "860f051826564b4883aad80793281070",
              "5748207c71c84ac6ac9f394108e86062",
              "e3d61b59516c4dada6265df621d0b1a9",
              "d1baa49bcb374371baec0df382b07edc",
              "5e2fb65d0fa149aeb6eaf27298830c72",
              "b6af9e0e964b4ff29634ecb6b8a74389",
              "e1852aba3cb640f08c72ce4563f91d4c",
              "5a5704ebc987462abb60670bdb661367",
              "01508420367c4dfc88ed6a342fe1f2de",
              "eb98280abbe445b5af3f33052ee0aaad",
              "97a5d298ea05474e82a7b27737c5581c",
              "bdeec4d309ea41d9a9679ad8747be361",
              "80dfa9d99e904c62a263770263372a61",
              "6859590dd5824ec2b851244d32b7606d",
              "7496492852a34467b62f85dca57ab9b7",
              "e39003787e0249a08f59a8971d384ecd",
              "7fd6d794e5b04ac888b5c23709dc1a4a",
              "3aff08f849584465b8b37e56f78d1515",
              "a5805abea3244a2db16271fc342ed62b",
              "8be9a133500643b38e3ee97e0a244040",
              "03fc70b98954419ba275f7dc8a905683",
              "cbfe672ec10e4972b39dbcf09a964506",
              "5d9b26dd651646afb5cfa5ecdacd4f5d",
              "31866b60862c46418b2597a08f361e27",
              "93bfc1e8f48e4182970788f74a2e29d6"
            ]
          },
          "executionInfo": {
            "status": "ok",
            "timestamp": 1709565711814,
            "user_tz": -240,
            "elapsed": 61560,
            "user": {
              "displayName": "Kayan Irani",
              "userId": "16819603326667996950"
            }
          },
          "outputId": "69b93931-9d31-4093-984a-6dc929c75a93"
        },
        "outputs": [
          {
            "output_type": "stream",
            "name": "stdout",
            "text": [
              "Downloading and preparing dataset 80.23 MiB (download: 80.23 MiB, generated: Unknown size, total: 80.23 MiB) to /root/tensorflow_datasets/imdb_reviews/plain_text/1.0.0...\n"
            ]
          },
          {
            "output_type": "display_data",
            "data": {
              "text/plain": [
                "Dl Completed...: 0 url [00:00, ? url/s]"
              ],
              "application/vnd.jupyter.widget-view+json": {
                "version_major": 2,
                "version_minor": 0,
                "model_id": "aa4e742201ce429182f475c29a9eb1ab"
              }
            },
            "metadata": {}
          },
          {
            "output_type": "display_data",
            "data": {
              "text/plain": [
                "Dl Size...: 0 MiB [00:00, ? MiB/s]"
              ],
              "application/vnd.jupyter.widget-view+json": {
                "version_major": 2,
                "version_minor": 0,
                "model_id": "46e22b0c5c374d298bc08235a65fa39f"
              }
            },
            "metadata": {}
          },
          {
            "output_type": "display_data",
            "data": {
              "text/plain": [
                "Generating splits...:   0%|          | 0/3 [00:00<?, ? splits/s]"
              ],
              "application/vnd.jupyter.widget-view+json": {
                "version_major": 2,
                "version_minor": 0,
                "model_id": "be1046637a5c45c28599b0a89dbe4f59"
              }
            },
            "metadata": {}
          },
          {
            "output_type": "display_data",
            "data": {
              "text/plain": [
                "Generating train examples...:   0%|          | 0/25000 [00:00<?, ? examples/s]"
              ],
              "application/vnd.jupyter.widget-view+json": {
                "version_major": 2,
                "version_minor": 0,
                "model_id": "3e456e0d038f4318b727c1189691770f"
              }
            },
            "metadata": {}
          },
          {
            "output_type": "display_data",
            "data": {
              "text/plain": [
                "Shuffling /root/tensorflow_datasets/imdb_reviews/plain_text/1.0.0.incompleteEJYEOD/imdb_reviews-train.tfrecord…"
              ],
              "application/vnd.jupyter.widget-view+json": {
                "version_major": 2,
                "version_minor": 0,
                "model_id": "98adc2d42b5c4e26b96a8b1eb01c0d95"
              }
            },
            "metadata": {}
          },
          {
            "output_type": "display_data",
            "data": {
              "text/plain": [
                "Generating test examples...:   0%|          | 0/25000 [00:00<?, ? examples/s]"
              ],
              "application/vnd.jupyter.widget-view+json": {
                "version_major": 2,
                "version_minor": 0,
                "model_id": "edf69e90a63140b0bdf49334547b9942"
              }
            },
            "metadata": {}
          },
          {
            "output_type": "display_data",
            "data": {
              "text/plain": [
                "Shuffling /root/tensorflow_datasets/imdb_reviews/plain_text/1.0.0.incompleteEJYEOD/imdb_reviews-test.tfrecord*…"
              ],
              "application/vnd.jupyter.widget-view+json": {
                "version_major": 2,
                "version_minor": 0,
                "model_id": "3bbd90531204440ca6b8ea67384c115d"
              }
            },
            "metadata": {}
          },
          {
            "output_type": "display_data",
            "data": {
              "text/plain": [
                "Generating unsupervised examples...:   0%|          | 0/50000 [00:00<?, ? examples/s]"
              ],
              "application/vnd.jupyter.widget-view+json": {
                "version_major": 2,
                "version_minor": 0,
                "model_id": "d1baa49bcb374371baec0df382b07edc"
              }
            },
            "metadata": {}
          },
          {
            "output_type": "display_data",
            "data": {
              "text/plain": [
                "Shuffling /root/tensorflow_datasets/imdb_reviews/plain_text/1.0.0.incompleteEJYEOD/imdb_reviews-unsupervised.t…"
              ],
              "application/vnd.jupyter.widget-view+json": {
                "version_major": 2,
                "version_minor": 0,
                "model_id": "7496492852a34467b62f85dca57ab9b7"
              }
            },
            "metadata": {}
          },
          {
            "output_type": "stream",
            "name": "stdout",
            "text": [
              "Dataset imdb_reviews downloaded and prepared to /root/tensorflow_datasets/imdb_reviews/plain_text/1.0.0. Subsequent calls will reuse this data.\n"
            ]
          }
        ],
        "source": [
          "# Split the training set into 60% and 40% to end up with 15,000 examples\n",
          "# for training, 10,000 examples for validation and 25,000 examples for testing.\n",
          "train_data, validation_data, test_data = tfds.load(\n",
          "    name=\"imdb_reviews\",\n",
          "    split=('train[:60%]', 'train[60%:]', 'test'),\n",
          "    as_supervised=True)"
        ]
      },
      {
        "cell_type": "code",
        "source": [
          "train_data = train_data.shuffle(10)"
        ],
        "metadata": {
          "id": "tQcyeHd1y8vU"
        },
        "execution_count": null,
        "outputs": []
      },
      {
        "cell_type": "code",
        "source": [
          "text_batch, label_batch = next(iter(train_data.batch(5)))\n",
          "for i in range(5):\n",
          "\n",
          "  print(\"Review: \", text_batch.numpy()[i])\n",
          "  print(\"Label:\", label_batch.numpy()[i])\n"
        ],
        "metadata": {
          "id": "hYF9IHA9DctR",
          "executionInfo": {
            "status": "ok",
            "timestamp": 1709565711815,
            "user_tz": -240,
            "elapsed": 17,
            "user": {
              "displayName": "Kayan Irani",
              "userId": "16819603326667996950"
            }
          },
          "colab": {
            "base_uri": "https://localhost:8080/"
          },
          "outputId": "b0046217-516b-4d05-9874-9f35b1f6bafb"
        },
        "execution_count": null,
        "outputs": [
          {
            "output_type": "stream",
            "name": "stdout",
            "text": [
              "Review:  b'As others have mentioned, all the women that go nude in this film are mostly absolutely gorgeous. The plot very ably shows the hypocrisy of the female libido. When men are around they want to be pursued, but when no \"men\" are around, they become the pursuers of a 14 year old boy. And the boy becomes a man really fast (we should all be so lucky at this age!). He then gets up the courage to pursue his true love.'\n",
              "Label: 1\n",
              "Review:  b'This is the kind of film for a snowy Sunday afternoon when the rest of the world can go ahead with its own business as you descend into a big arm-chair and mellow for a couple of hours. Wonderful performances from Cher and Nicolas Cage (as always) gently row the plot along. There are no rapids to cross, no dangerous waters, just a warm and witty paddle through New York life at its best. A family film in every sense and one that deserves the praise it received.'\n",
              "Label: 1\n",
              "Review:  b'Okay, you have:<br /><br />Penelope Keith as Miss Herringbone-Tweed, B.B.E. (Backbone of England.) She\\'s killed off in the first scene - that\\'s right, folks; this show has no backbone!<br /><br />Peter O\\'Toole as Ol\\' Colonel Cricket from The First War and now the emblazered Lord of the Manor.<br /><br />Joanna Lumley as the ensweatered Lady of the Manor, 20 years younger than the colonel and 20 years past her own prime but still glamourous (Brit spelling, not mine) enough to have a toy-boy on the side. It\\'s alright, they have Col. Cricket\\'s full knowledge and consent (they guy even comes \\'round for Christmas!) Still, she\\'s considerate of the colonel enough to have said toy-boy her own age (what a gal!)<br /><br />David McCallum as said toy-boy, equally as pointlessly glamourous as his squeeze. Pilcher couldn\\'t come up with any cover for him within the story, so she gave him a hush-hush job at the Circus.<br /><br />and finally:<br /><br />Susan Hampshire as Miss Polonia Teacups, Venerable Headmistress of the Venerable Girls\\' Boarding-School, serving tea in her office with a dash of deep, poignant advice for life in the outside world just before graduation. Her best bit of advice: \"I\\'ve only been to Nancherrow (the local Stately Home of England) once. I thought it was very beautiful but, somehow, not part of the real world.\" Well, we can\\'t say they didn\\'t warn us.<br /><br />Ah, Susan - time was, your character would have been running the whole show. They don\\'t write \\'em like that any more. Our loss, not yours.<br /><br />So - with a cast and setting like this, you have the re-makings of \"Brideshead Revisited,\" right?<br /><br />Wrong! They took these 1-dimensional supporting roles because they paid so well. After all, acting is one of the oldest temp-jobs there is (YOU name another!)<br /><br />First warning sign: lots and lots of backlighting. They get around it by shooting outdoors - \"hey, it\\'s just the sunlight!\"<br /><br />Second warning sign: Leading Lady cries a lot. When not crying, her eyes are moist. That\\'s the law of romance novels: Leading Lady is \"dewy-eyed.\"<br /><br />Henceforth, Leading Lady shall be known as L.L.<br /><br />Third warning sign: L.L. actually has stars in her eyes when she\\'s in love. Still, I\\'ll give Emily Mortimer an award just for having to act with that spotlight in her eyes (I wonder . did they use contacts?)<br /><br />And lastly, fourth warning sign: no on-screen female character is \"Mrs.\" She\\'s either \"Miss\" or \"Lady.\"<br /><br />When all was said and done, I still couldn\\'t tell you who was pursuing whom and why. I couldn\\'t even tell you what was said and done.<br /><br />To sum up: they all live through World War II without anything happening to them at all.<br /><br />OK, at the end, L.L. finds she\\'s lost her parents to the Japanese prison camps and baby sis comes home catatonic. Meanwhile (there\\'s always a \"meanwhile,\") some young guy L.L. had a crush on (when, I don\\'t know) comes home from some wartime tough spot and is found living on the street by Lady of the Manor (must be some street if SHE\\'s going to find him there.) Both war casualties are whisked away to recover at Nancherrow (SOMEBODY has to be \"whisked away\" SOMEWHERE in these romance stories!)<br /><br />Great drama.'\n",
              "Label: 0\n",
              "Review:  b'Cute film about three lively sisters from Switzerland (often seen running about in matching outfits) who want to get their parents back together (seems mom is still carrying the torch for dad) - so they sail off to New York to stop the dad from marrying a blonde gold-digger he calls \"Precious\". Dad hasn\\'t seen his daughters in ten years, they (oddly enough) don\\'t seem to mind and think he\\'s wonderful, and meanwhile Precious seems to lead a life mainly run by her overbearing mother (Alice Brady), a woman who just wants to see to it her daughter marries a rich man. The sisters get the idea of pushing Precious into the path of a drunken Hungarian count, tricking the two gold-digging women into thinking he is one of the richest men in Europe. But a case of mistaken identity makes the girls think the count is good-looking Ray Milland, who goes along with the scheme \\'cause he has a crush on sister Kay.<br /><br />This film is enjoyable, light fare. Barbara Read as Kay comes across as sweet and pretty, Ray Milland looks oh so young and handsome here (though, unfortunately, is given little to do), Alice Brady is quite good as the scheming mother - but it is Deanna Durbin, a real charmer and cute as a button playing youngest sister Penny, who pretty much steals the show. With absolutely beautiful vocals, she sings several songs throughout the film, though I actually would have liked to have seen them feature her even more in this. The plot in this film is a bit silly, but nevertheless, I found the film to be entertaining and fun.'\n",
              "Label: 1\n",
              "Review:  b'Put the blame on executive producer Wes Craven and financiers the Weinsteins for this big-budget debacle: a thrash-metal updating of \"Dracula\", with a condescending verbal jab at Bram Stoker (who probably wouldn\\'t want his name on this thing anyway) and nothing much for the rest of us except slasher-styled jolts and gore. Christopher Plummer looks winded as Van Helsing in the modern-day--not just a descendant of Van Helsing but the real thing; he keeps himself going with leeches obtained from Count Dracula\\'s corpse, which is exhumed from its coffin after being stolen from Van Helsing\\'s vault and flown to New Orleans. This is just what New Orleans needs in the 21st Century! The film, well-produced but without a single original idea (except for multi-racial victims), is both repulsive and lazy, and after about an hour starts repeating itself. * from ****'\n",
              "Label: 0\n"
            ]
          }
        ]
      },
      {
        "cell_type": "markdown",
        "source": [
          "# 1.2 Tokenization"
        ],
        "metadata": {
          "id": "Lin_7AClSCcC"
        }
      },
      {
        "cell_type": "markdown",
        "source": [
          "Tokenization is when we split our text into chunks and assign each of them a unique numerical ID."
        ],
        "metadata": {
          "id": "famvjAN_TnOG"
        }
      },
      {
        "cell_type": "code",
        "source": [
          "word = \"silent\"\n",
          "another_word = \"listen\""
        ],
        "metadata": {
          "id": "nBFYi_ps9Bqo"
        },
        "execution_count": null,
        "outputs": []
      },
      {
        "cell_type": "code",
        "source": [
          "[ord(char) for char in word]"
        ],
        "metadata": {
          "colab": {
            "base_uri": "https://localhost:8080/"
          },
          "id": "Huqg1Wbb9DpO",
          "executionInfo": {
            "status": "ok",
            "timestamp": 1709565711815,
            "user_tz": -240,
            "elapsed": 16,
            "user": {
              "displayName": "Kayan Irani",
              "userId": "16819603326667996950"
            }
          },
          "outputId": "fbd26574-1b7b-4942-97b3-481abdf1361e"
        },
        "execution_count": null,
        "outputs": [
          {
            "output_type": "execute_result",
            "data": {
              "text/plain": [
                "[115, 105, 108, 101, 110, 116]"
              ]
            },
            "metadata": {},
            "execution_count": 8
          }
        ]
      },
      {
        "cell_type": "code",
        "source": [
          "[ord(char) for char in another_word]"
        ],
        "metadata": {
          "colab": {
            "base_uri": "https://localhost:8080/"
          },
          "id": "QVaFimV-9YjE",
          "executionInfo": {
            "status": "ok",
            "timestamp": 1709565711815,
            "user_tz": -240,
            "elapsed": 14,
            "user": {
              "displayName": "Kayan Irani",
              "userId": "16819603326667996950"
            }
          },
          "outputId": "c75cd6d9-4175-4b72-c1c5-427bc0f1df3e"
        },
        "execution_count": null,
        "outputs": [
          {
            "output_type": "execute_result",
            "data": {
              "text/plain": [
                "[108, 105, 115, 116, 101, 110]"
              ]
            },
            "metadata": {},
            "execution_count": 9
          }
        ]
      },
      {
        "cell_type": "markdown",
        "source": [
          "![](https://miro.medium.com/v2/resize:fit:1400/1*CdjbU3J5BYuIi-4WbWnKng.png)"
        ],
        "metadata": {
          "id": "I_GkgSzOT8--"
        }
      },
      {
        "cell_type": "markdown",
        "source": [
          "![](https://miro.medium.com/v2/resize:fit:1378/1*3CNBx4iZ1vmJCZgGUIC83A.png)"
        ],
        "metadata": {
          "id": "EzfN5CEIUH2D"
        }
      },
      {
        "cell_type": "code",
        "source": [
          "raw_data = text_batch.numpy()\n",
          "\n",
          "raw_data"
        ],
        "metadata": {
          "id": "67z_fQvZleWQ",
          "colab": {
            "base_uri": "https://localhost:8080/"
          },
          "executionInfo": {
            "status": "ok",
            "timestamp": 1709565711816,
            "user_tz": -240,
            "elapsed": 14,
            "user": {
              "displayName": "Kayan Irani",
              "userId": "16819603326667996950"
            }
          },
          "outputId": "8be81a05-c622-41d0-ede1-2599f0e3a01d"
        },
        "execution_count": null,
        "outputs": [
          {
            "output_type": "execute_result",
            "data": {
              "text/plain": [
                "array([b'As others have mentioned, all the women that go nude in this film are mostly absolutely gorgeous. The plot very ably shows the hypocrisy of the female libido. When men are around they want to be pursued, but when no \"men\" are around, they become the pursuers of a 14 year old boy. And the boy becomes a man really fast (we should all be so lucky at this age!). He then gets up the courage to pursue his true love.',\n",
                "       b'This is the kind of film for a snowy Sunday afternoon when the rest of the world can go ahead with its own business as you descend into a big arm-chair and mellow for a couple of hours. Wonderful performances from Cher and Nicolas Cage (as always) gently row the plot along. There are no rapids to cross, no dangerous waters, just a warm and witty paddle through New York life at its best. A family film in every sense and one that deserves the praise it received.',\n",
                "       b'Okay, you have:<br /><br />Penelope Keith as Miss Herringbone-Tweed, B.B.E. (Backbone of England.) She\\'s killed off in the first scene - that\\'s right, folks; this show has no backbone!<br /><br />Peter O\\'Toole as Ol\\' Colonel Cricket from The First War and now the emblazered Lord of the Manor.<br /><br />Joanna Lumley as the ensweatered Lady of the Manor, 20 years younger than the colonel and 20 years past her own prime but still glamourous (Brit spelling, not mine) enough to have a toy-boy on the side. It\\'s alright, they have Col. Cricket\\'s full knowledge and consent (they guy even comes \\'round for Christmas!) Still, she\\'s considerate of the colonel enough to have said toy-boy her own age (what a gal!)<br /><br />David McCallum as said toy-boy, equally as pointlessly glamourous as his squeeze. Pilcher couldn\\'t come up with any cover for him within the story, so she gave him a hush-hush job at the Circus.<br /><br />and finally:<br /><br />Susan Hampshire as Miss Polonia Teacups, Venerable Headmistress of the Venerable Girls\\' Boarding-School, serving tea in her office with a dash of deep, poignant advice for life in the outside world just before graduation. Her best bit of advice: \"I\\'ve only been to Nancherrow (the local Stately Home of England) once. I thought it was very beautiful but, somehow, not part of the real world.\" Well, we can\\'t say they didn\\'t warn us.<br /><br />Ah, Susan - time was, your character would have been running the whole show. They don\\'t write \\'em like that any more. Our loss, not yours.<br /><br />So - with a cast and setting like this, you have the re-makings of \"Brideshead Revisited,\" right?<br /><br />Wrong! They took these 1-dimensional supporting roles because they paid so well. After all, acting is one of the oldest temp-jobs there is (YOU name another!)<br /><br />First warning sign: lots and lots of backlighting. They get around it by shooting outdoors - \"hey, it\\'s just the sunlight!\"<br /><br />Second warning sign: Leading Lady cries a lot. When not crying, her eyes are moist. That\\'s the law of romance novels: Leading Lady is \"dewy-eyed.\"<br /><br />Henceforth, Leading Lady shall be known as L.L.<br /><br />Third warning sign: L.L. actually has stars in her eyes when she\\'s in love. Still, I\\'ll give Emily Mortimer an award just for having to act with that spotlight in her eyes (I wonder . did they use contacts?)<br /><br />And lastly, fourth warning sign: no on-screen female character is \"Mrs.\" She\\'s either \"Miss\" or \"Lady.\"<br /><br />When all was said and done, I still couldn\\'t tell you who was pursuing whom and why. I couldn\\'t even tell you what was said and done.<br /><br />To sum up: they all live through World War II without anything happening to them at all.<br /><br />OK, at the end, L.L. finds she\\'s lost her parents to the Japanese prison camps and baby sis comes home catatonic. Meanwhile (there\\'s always a \"meanwhile,\") some young guy L.L. had a crush on (when, I don\\'t know) comes home from some wartime tough spot and is found living on the street by Lady of the Manor (must be some street if SHE\\'s going to find him there.) Both war casualties are whisked away to recover at Nancherrow (SOMEBODY has to be \"whisked away\" SOMEWHERE in these romance stories!)<br /><br />Great drama.',\n",
                "       b'Cute film about three lively sisters from Switzerland (often seen running about in matching outfits) who want to get their parents back together (seems mom is still carrying the torch for dad) - so they sail off to New York to stop the dad from marrying a blonde gold-digger he calls \"Precious\". Dad hasn\\'t seen his daughters in ten years, they (oddly enough) don\\'t seem to mind and think he\\'s wonderful, and meanwhile Precious seems to lead a life mainly run by her overbearing mother (Alice Brady), a woman who just wants to see to it her daughter marries a rich man. The sisters get the idea of pushing Precious into the path of a drunken Hungarian count, tricking the two gold-digging women into thinking he is one of the richest men in Europe. But a case of mistaken identity makes the girls think the count is good-looking Ray Milland, who goes along with the scheme \\'cause he has a crush on sister Kay.<br /><br />This film is enjoyable, light fare. Barbara Read as Kay comes across as sweet and pretty, Ray Milland looks oh so young and handsome here (though, unfortunately, is given little to do), Alice Brady is quite good as the scheming mother - but it is Deanna Durbin, a real charmer and cute as a button playing youngest sister Penny, who pretty much steals the show. With absolutely beautiful vocals, she sings several songs throughout the film, though I actually would have liked to have seen them feature her even more in this. The plot in this film is a bit silly, but nevertheless, I found the film to be entertaining and fun.',\n",
                "       b'Put the blame on executive producer Wes Craven and financiers the Weinsteins for this big-budget debacle: a thrash-metal updating of \"Dracula\", with a condescending verbal jab at Bram Stoker (who probably wouldn\\'t want his name on this thing anyway) and nothing much for the rest of us except slasher-styled jolts and gore. Christopher Plummer looks winded as Van Helsing in the modern-day--not just a descendant of Van Helsing but the real thing; he keeps himself going with leeches obtained from Count Dracula\\'s corpse, which is exhumed from its coffin after being stolen from Van Helsing\\'s vault and flown to New Orleans. This is just what New Orleans needs in the 21st Century! The film, well-produced but without a single original idea (except for multi-racial victims), is both repulsive and lazy, and after about an hour starts repeating itself. * from ****'],\n",
                "      dtype=object)"
              ]
            },
            "metadata": {},
            "execution_count": 10
          }
        ]
      },
      {
        "cell_type": "code",
        "source": [
          "plain_text = [i.decode(\"utf-8\") for i in raw_data]\n",
          "\n",
          "print(plain_text[0])"
        ],
        "metadata": {
          "colab": {
            "base_uri": "https://localhost:8080/"
          },
          "id": "2QsVOM-SlyIa",
          "executionInfo": {
            "status": "ok",
            "timestamp": 1709565711816,
            "user_tz": -240,
            "elapsed": 13,
            "user": {
              "displayName": "Kayan Irani",
              "userId": "16819603326667996950"
            }
          },
          "outputId": "b66d47a2-09a0-451b-ff4c-887502eb4b3f"
        },
        "execution_count": null,
        "outputs": [
          {
            "output_type": "stream",
            "name": "stdout",
            "text": [
              "As others have mentioned, all the women that go nude in this film are mostly absolutely gorgeous. The plot very ably shows the hypocrisy of the female libido. When men are around they want to be pursued, but when no \"men\" are around, they become the pursuers of a 14 year old boy. And the boy becomes a man really fast (we should all be so lucky at this age!). He then gets up the courage to pursue his true love.\n"
            ]
          }
        ]
      },
      {
        "cell_type": "code",
        "source": [
          "word_tokenized = []\n",
          "\n",
          "for i in range(len(plain_text)):\n",
          "  word_tokenized.append(tf.keras.preprocessing.text.text_to_word_sequence(plain_text[i]))\n",
          "\n",
          "word_tokenized[0]"
        ],
        "metadata": {
          "id": "wUNS6i_2ljLp",
          "colab": {
            "base_uri": "https://localhost:8080/"
          },
          "executionInfo": {
            "status": "ok",
            "timestamp": 1709565711816,
            "user_tz": -240,
            "elapsed": 10,
            "user": {
              "displayName": "Kayan Irani",
              "userId": "16819603326667996950"
            }
          },
          "outputId": "55e5e02c-7ee0-4153-ef11-b698a4d58dd7"
        },
        "execution_count": null,
        "outputs": [
          {
            "output_type": "execute_result",
            "data": {
              "text/plain": [
                "['as',\n",
                " 'others',\n",
                " 'have',\n",
                " 'mentioned',\n",
                " 'all',\n",
                " 'the',\n",
                " 'women',\n",
                " 'that',\n",
                " 'go',\n",
                " 'nude',\n",
                " 'in',\n",
                " 'this',\n",
                " 'film',\n",
                " 'are',\n",
                " 'mostly',\n",
                " 'absolutely',\n",
                " 'gorgeous',\n",
                " 'the',\n",
                " 'plot',\n",
                " 'very',\n",
                " 'ably',\n",
                " 'shows',\n",
                " 'the',\n",
                " 'hypocrisy',\n",
                " 'of',\n",
                " 'the',\n",
                " 'female',\n",
                " 'libido',\n",
                " 'when',\n",
                " 'men',\n",
                " 'are',\n",
                " 'around',\n",
                " 'they',\n",
                " 'want',\n",
                " 'to',\n",
                " 'be',\n",
                " 'pursued',\n",
                " 'but',\n",
                " 'when',\n",
                " 'no',\n",
                " 'men',\n",
                " 'are',\n",
                " 'around',\n",
                " 'they',\n",
                " 'become',\n",
                " 'the',\n",
                " 'pursuers',\n",
                " 'of',\n",
                " 'a',\n",
                " '14',\n",
                " 'year',\n",
                " 'old',\n",
                " 'boy',\n",
                " 'and',\n",
                " 'the',\n",
                " 'boy',\n",
                " 'becomes',\n",
                " 'a',\n",
                " 'man',\n",
                " 'really',\n",
                " 'fast',\n",
                " 'we',\n",
                " 'should',\n",
                " 'all',\n",
                " 'be',\n",
                " 'so',\n",
                " 'lucky',\n",
                " 'at',\n",
                " 'this',\n",
                " 'age',\n",
                " 'he',\n",
                " 'then',\n",
                " 'gets',\n",
                " 'up',\n",
                " 'the',\n",
                " 'courage',\n",
                " 'to',\n",
                " 'pursue',\n",
                " 'his',\n",
                " 'true',\n",
                " 'love']"
              ]
            },
            "metadata": {},
            "execution_count": 12
          }
        ]
      },
      {
        "cell_type": "code",
        "source": [
          "max_num_words = 10000\n",
          "\n",
          "tokenizer = tf.keras.preprocessing.text.Tokenizer(num_words=max_num_words)\n",
          "\n",
          "tokenizer.fit_on_texts(word_tokenized)\n",
          "\n",
          "tokens = tokenizer.texts_to_sequences(word_tokenized)\n",
          "\n",
          "print(tokens[0])"
        ],
        "metadata": {
          "id": "5IkiG4oiDcwH",
          "executionInfo": {
            "status": "ok",
            "timestamp": 1709565711816,
            "user_tz": -240,
            "elapsed": 8,
            "user": {
              "displayName": "Kayan Irani",
              "userId": "16819603326667996950"
            }
          },
          "colab": {
            "base_uri": "https://localhost:8080/"
          },
          "outputId": "0abc563d-95a2-4684-ed40-ffb1d52a7a49"
        },
        "execution_count": null,
        "outputs": [
          {
            "output_type": "stream",
            "name": "stdout",
            "text": [
              "[8, 174, 14, 175, 25, 1, 90, 40, 91, 176, 9, 11, 15, 26, 177, 92, 178, 1, 49, 93, 179, 180, 1, 181, 5, 1, 94, 182, 20, 50, 26, 51, 10, 52, 6, 27, 183, 18, 20, 33, 50, 26, 51, 10, 184, 1, 185, 5, 3, 186, 187, 188, 34, 4, 1, 34, 189, 3, 95, 190, 191, 96, 192, 25, 27, 28, 193, 21, 11, 97, 35, 194, 195, 53, 1, 196, 6, 197, 41, 198, 98]\n"
            ]
          }
        ]
      },
      {
        "cell_type": "markdown",
        "source": [
          "# 1.3 Vectorization\n"
        ],
        "metadata": {
          "id": "-3WmaKiXnO2l"
        }
      },
      {
        "cell_type": "code",
        "source": [
          "# Convert the dataset from a gen into dataset format\n",
          "text_batch, label_batch = next(iter(train_data.batch(128)))\n",
          "\n",
          "text_dataset = tf.data.Dataset.from_tensor_slices(text_batch)\n",
          "\n",
          "text_dataset"
        ],
        "metadata": {
          "id": "emYBNtE6Dcy0",
          "colab": {
            "base_uri": "https://localhost:8080/"
          },
          "executionInfo": {
            "status": "ok",
            "timestamp": 1709565711816,
            "user_tz": -240,
            "elapsed": 6,
            "user": {
              "displayName": "Kayan Irani",
              "userId": "16819603326667996950"
            }
          },
          "outputId": "98f443a6-7131-43ff-8b17-982693cdced0"
        },
        "execution_count": null,
        "outputs": [
          {
            "output_type": "execute_result",
            "data": {
              "text/plain": [
                "<_TensorSliceDataset element_spec=TensorSpec(shape=(), dtype=tf.string, name=None)>"
              ]
            },
            "metadata": {},
            "execution_count": 14
          }
        ]
      },
      {
        "cell_type": "code",
        "source": [
          "vectorize_layer = tf.keras.layers.TextVectorization(\n",
          " max_tokens=max_num_words,\n",
          " output_mode='int',\n",
          " output_sequence_length=10)\n",
          "\n",
          "vectorize_layer.adapt(text_dataset.batch(64))"
        ],
        "metadata": {
          "id": "RRRZv2zpDc1g"
        },
        "execution_count": null,
        "outputs": []
      },
      {
        "cell_type": "code",
        "source": [
          "vectorize_layer.get_vocabulary()"
        ],
        "metadata": {
          "id": "z3PVlm0zx3nT",
          "colab": {
            "base_uri": "https://localhost:8080/"
          },
          "executionInfo": {
            "status": "ok",
            "timestamp": 1709565712464,
            "user_tz": -240,
            "elapsed": 6,
            "user": {
              "displayName": "Kayan Irani",
              "userId": "16819603326667996950"
            }
          },
          "outputId": "aeae71f3-90c6-491c-d3b7-400b2dba7411"
        },
        "execution_count": null,
        "outputs": [
          {
            "output_type": "execute_result",
            "data": {
              "text/plain": [
                "['',\n",
                " '[UNK]',\n",
                " 'the',\n",
                " 'of',\n",
                " 'and',\n",
                " 'a',\n",
                " 'to',\n",
                " 'is',\n",
                " 'in',\n",
                " 'this',\n",
                " 'i',\n",
                " 'it',\n",
                " 'that',\n",
                " 'br',\n",
                " 'as',\n",
                " 'with',\n",
                " 'for',\n",
                " 'was',\n",
                " 'film',\n",
                " 'you',\n",
                " 'movie',\n",
                " 'but',\n",
                " 'are',\n",
                " 'one',\n",
                " 'have',\n",
                " 'be',\n",
                " 'on',\n",
                " 'his',\n",
                " 'not',\n",
                " 'all',\n",
                " 'they',\n",
                " 'just',\n",
                " 'an',\n",
                " 'by',\n",
                " 'from',\n",
                " 'at',\n",
                " 'so',\n",
                " 'her',\n",
                " 'who',\n",
                " 'has',\n",
                " 'its',\n",
                " 'he',\n",
                " 'if',\n",
                " 'about',\n",
                " 'what',\n",
                " 'some',\n",
                " 'or',\n",
                " 'like',\n",
                " 'no',\n",
                " 'my',\n",
                " 'when',\n",
                " 'there',\n",
                " 'their',\n",
                " 'out',\n",
                " 'she',\n",
                " 'which',\n",
                " 'will',\n",
                " 'more',\n",
                " 'good',\n",
                " 'see',\n",
                " 'first',\n",
                " 'me',\n",
                " 'would',\n",
                " 'most',\n",
                " 'them',\n",
                " 'up',\n",
                " 'had',\n",
                " 'get',\n",
                " 'well',\n",
                " 'too',\n",
                " 'other',\n",
                " 'movies',\n",
                " 'do',\n",
                " 'even',\n",
                " 'story',\n",
                " 'people',\n",
                " 'only',\n",
                " 'into',\n",
                " 'dont',\n",
                " 'were',\n",
                " 'very',\n",
                " 'can',\n",
                " 'really',\n",
                " 'also',\n",
                " 'way',\n",
                " 'then',\n",
                " 'seen',\n",
                " 'any',\n",
                " 'great',\n",
                " 'been',\n",
                " 'we',\n",
                " 'many',\n",
                " 'than',\n",
                " 'how',\n",
                " 'ever',\n",
                " 'think',\n",
                " 'these',\n",
                " 'should',\n",
                " 'time',\n",
                " 'much',\n",
                " 'make',\n",
                " 'films',\n",
                " 'actors',\n",
                " 'could',\n",
                " 'best',\n",
                " 'while',\n",
                " 'plot',\n",
                " 'did',\n",
                " 'after',\n",
                " 'him',\n",
                " 'say',\n",
                " 'because',\n",
                " 'three',\n",
                " 'such',\n",
                " 'still',\n",
                " 'scenes',\n",
                " 'made',\n",
                " 'end',\n",
                " 'being',\n",
                " 'world',\n",
                " 'thing',\n",
                " 'know',\n",
                " 'bad',\n",
                " 'why',\n",
                " 'want',\n",
                " 'two',\n",
                " 'through',\n",
                " 'real',\n",
                " 'pretty',\n",
                " 'go',\n",
                " 'character',\n",
                " 'big',\n",
                " 'us',\n",
                " 'scene',\n",
                " 'own',\n",
                " 'nothing',\n",
                " 'never',\n",
                " 'lot',\n",
                " 'im',\n",
                " 'every',\n",
                " 'your',\n",
                " 'yet',\n",
                " 'take',\n",
                " 'show',\n",
                " 'off',\n",
                " 'life',\n",
                " 'enough',\n",
                " 'doesnt',\n",
                " 'does',\n",
                " 'cast',\n",
                " 'acting',\n",
                " 'those',\n",
                " 'quite',\n",
                " 'little',\n",
                " 'funny',\n",
                " 'few',\n",
                " 'whole',\n",
                " 'where',\n",
                " 'over',\n",
                " 'makes',\n",
                " 'ive',\n",
                " 'back',\n",
                " '\\x96',\n",
                " 'watch',\n",
                " 'saw',\n",
                " 'right',\n",
                " 'performance',\n",
                " 'our',\n",
                " 'man',\n",
                " 'king',\n",
                " 'hollywood',\n",
                " 'here',\n",
                " 'find',\n",
                " 'better',\n",
                " 'another',\n",
                " 'years',\n",
                " 'same',\n",
                " 'new',\n",
                " 'love',\n",
                " 'down',\n",
                " 'director',\n",
                " 'come',\n",
                " 'before',\n",
                " 'around',\n",
                " 'though',\n",
                " 'old',\n",
                " 'now',\n",
                " 'give',\n",
                " 'gets',\n",
                " 'characters',\n",
                " 'without',\n",
                " 'thats',\n",
                " 'something',\n",
                " 'script',\n",
                " 'part',\n",
                " 'might',\n",
                " 'isnt',\n",
                " 'going',\n",
                " 'girl',\n",
                " 'family',\n",
                " 'tv',\n",
                " 'throughout',\n",
                " 'last',\n",
                " 'home',\n",
                " 'having',\n",
                " 'feel',\n",
                " 'each',\n",
                " 'didnt',\n",
                " 'both',\n",
                " 'always',\n",
                " 'actually',\n",
                " 'actor',\n",
                " 'watching',\n",
                " 'theres',\n",
                " 'simply',\n",
                " 'shes',\n",
                " 'role',\n",
                " 'place',\n",
                " 'name',\n",
                " 'minutes',\n",
                " 'high',\n",
                " 'fact',\n",
                " 'done',\n",
                " 'comedy',\n",
                " 'between',\n",
                " 'again',\n",
                " 'youre',\n",
                " 'work',\n",
                " 'trying',\n",
                " 'true',\n",
                " 'tell',\n",
                " 'since',\n",
                " 'seems',\n",
                " 'may',\n",
                " 'looks',\n",
                " 'enjoy',\n",
                " 'young',\n",
                " 'thought',\n",
                " 'things',\n",
                " 'sense',\n",
                " 'second',\n",
                " 'read',\n",
                " 'point',\n",
                " 'performances',\n",
                " 'mean',\n",
                " 'lion',\n",
                " 'lets',\n",
                " 'let',\n",
                " 'head',\n",
                " 'guy',\n",
                " 'goes',\n",
                " 'course',\n",
                " 'bit',\n",
                " 'believe',\n",
                " 'away',\n",
                " 'action',\n",
                " 'absolutely',\n",
                " 'worst',\n",
                " 'turn',\n",
                " 'seeing',\n",
                " 'rather',\n",
                " 'production',\n",
                " 'once',\n",
                " 'must',\n",
                " 'lucy',\n",
                " 'least',\n",
                " 'kids',\n",
                " 'instead',\n",
                " 'however',\n",
                " 'house',\n",
                " 'fun',\n",
                " 'far',\n",
                " 'especially',\n",
                " 'day',\n",
                " 'yes',\n",
                " 'unfortunately',\n",
                " 'reason',\n",
                " 'quantum',\n",
                " 'look',\n",
                " 'lives',\n",
                " 'liked',\n",
                " 'idea',\n",
                " 'himself',\n",
                " 'hes',\n",
                " 'evil',\n",
                " 'comes',\n",
                " 'cant',\n",
                " 'beautiful',\n",
                " 'am',\n",
                " 'age',\n",
                " 'wife',\n",
                " 'truly',\n",
                " 'town',\n",
                " 'theyre',\n",
                " 'sure',\n",
                " 'short',\n",
                " 'series',\n",
                " 'seem',\n",
                " 'said',\n",
                " 'rest',\n",
                " 'recommend',\n",
                " 'problem',\n",
                " 'oh',\n",
                " 'nice',\n",
                " 'need',\n",
                " 'music',\n",
                " 'mind',\n",
                " 'main',\n",
                " 'lots',\n",
                " 'line',\n",
                " 'kind',\n",
                " 'job',\n",
                " 'humor',\n",
                " 'horror',\n",
                " 'given',\n",
                " 'fans',\n",
                " 'executive',\n",
                " 'either',\n",
                " 'during',\n",
                " 'completely',\n",
                " 'classic',\n",
                " 'called',\n",
                " 'bach',\n",
                " 'american',\n",
                " 'wont',\n",
                " 'wonderful',\n",
                " 'wonder',\n",
                " 'used',\n",
                " 'timon',\n",
                " 'takes',\n",
                " 'start',\n",
                " 'seriously',\n",
                " 'seemed',\n",
                " 'room',\n",
                " 'remember',\n",
                " 'pumbaa',\n",
                " 'perhaps',\n",
                " 'ones',\n",
                " 'often',\n",
                " 'night',\n",
                " 'money',\n",
                " 'making',\n",
                " 'less',\n",
                " 'interesting',\n",
                " 'full',\n",
                " 'eyes',\n",
                " 'excellent',\n",
                " 'etc',\n",
                " 'episodes',\n",
                " 'ending',\n",
                " 'dvd',\n",
                " 'doing',\n",
                " 'couldnt',\n",
                " 'casting',\n",
                " 'cannot',\n",
                " 'camera',\n",
                " 'behind',\n",
                " 'based',\n",
                " 'awful',\n",
                " 'audience',\n",
                " 'anything',\n",
                " 'anyone',\n",
                " 'along',\n",
                " 'wants',\n",
                " 'understand',\n",
                " 'top',\n",
                " 'took',\n",
                " 'times',\n",
                " 'style',\n",
                " 'studio',\n",
                " 'streisand',\n",
                " 'stars',\n",
                " 'shows',\n",
                " 'shots',\n",
                " 'sets',\n",
                " 'set',\n",
                " 'screen',\n",
                " 'says',\n",
                " 'rachel',\n",
                " 'poor',\n",
                " 'particularly',\n",
                " 'others',\n",
                " 'mr',\n",
                " 'late',\n",
                " 'girls',\n",
                " 'gave',\n",
                " 'fuqua',\n",
                " 'foxx',\n",
                " 'found',\n",
                " 'fine',\n",
                " 'finally',\n",
                " 'felt',\n",
                " 'fan',\n",
                " 'except',\n",
                " 'everything',\n",
                " 'everyone',\n",
                " 'entire',\n",
                " 'else',\n",
                " 'easy',\n",
                " 'early',\n",
                " 'close',\n",
                " 'city',\n",
                " 'christmas',\n",
                " 'certainly',\n",
                " 'canadian',\n",
                " 'book',\n",
                " 'beginning',\n",
                " 'avoid',\n",
                " 'appropriate',\n",
                " 'anyway',\n",
                " 'although',\n",
                " 'almost',\n",
                " 'against',\n",
                " 'act',\n",
                " 'york',\n",
                " 'worth',\n",
                " 'words',\n",
                " 'woman',\n",
                " 'warning',\n",
                " 'version',\n",
                " 'use',\n",
                " 'upon',\n",
                " 'until',\n",
                " 'twist',\n",
                " 'turned',\n",
                " 'try',\n",
                " 'together',\n",
                " 'thinking',\n",
                " 'tale',\n",
                " 'surprised',\n",
                " 'stupid',\n",
                " 'strong',\n",
                " 'star',\n",
                " 'sort',\n",
                " 'someone',\n",
                " 'slugs',\n",
                " 'similar',\n",
                " 'side',\n",
                " 'scrooge',\n",
                " 'scott',\n",
                " 'school',\n",
                " 'probably',\n",
                " 'play',\n",
                " 'piece',\n",
                " 'past',\n",
                " 'named',\n",
                " 'mother',\n",
                " 'michael',\n",
                " 'men',\n",
                " 'memorable',\n",
                " 'meet',\n",
                " 'meanwhile',\n",
                " 'married',\n",
                " 'looking',\n",
                " 'local',\n",
                " 'lady',\n",
                " 'known',\n",
                " 'killed',\n",
                " 'jokes',\n",
                " 'john',\n",
                " 'jean',\n",
                " 'human',\n",
                " 'hilarious',\n",
                " 'festival',\n",
                " 'female',\n",
                " 'famous',\n",
                " 'expect',\n",
                " 'example',\n",
                " 'episode',\n",
                " 'entertaining',\n",
                " 'deathstalker',\n",
                " 'dead',\n",
                " 'coming',\n",
                " 'buy',\n",
                " 'boy',\n",
                " 'black',\n",
                " 'basic',\n",
                " 'barbra',\n",
                " 'bait',\n",
                " 'arthur',\n",
                " 'art',\n",
                " 'arent',\n",
                " 'appeared',\n",
                " 'able',\n",
                " 'youve',\n",
                " 'youll',\n",
                " 'written',\n",
                " 'wish',\n",
                " 'watched',\n",
                " 'wasnt',\n",
                " 'war',\n",
                " 'waiting',\n",
                " 'video',\n",
                " 'usually',\n",
                " 'under',\n",
                " 'type',\n",
                " 'therefore',\n",
                " 'terrible',\n",
                " 'team',\n",
                " 'sword',\n",
                " 'supporting',\n",
                " 'stay',\n",
                " 'starts',\n",
                " 'spirit',\n",
                " 'space',\n",
                " 'sometimes',\n",
                " 'small',\n",
                " 'sister',\n",
                " 'shorts',\n",
                " 'serious',\n",
                " 'sad',\n",
                " 'running',\n",
                " 'roles',\n",
                " 'realize',\n",
                " 'reality',\n",
                " 'portrayal',\n",
                " 'plays',\n",
                " 'played',\n",
                " 'peter',\n",
                " 'perfect',\n",
                " 'paul',\n",
                " 'parents',\n",
                " 'overall',\n",
                " 'original',\n",
                " 'note',\n",
                " 'nor',\n",
                " 'negative',\n",
                " 'nearly',\n",
                " 'missed',\n",
                " 'miss',\n",
                " 'maybe',\n",
                " 'mall',\n",
                " 'lord',\n",
                " 'long',\n",
                " 'leave',\n",
                " 'leading',\n",
                " 'ill',\n",
                " 'ideas',\n",
                " 'id',\n",
                " 'hit',\n",
                " 'history',\n",
                " 'hero',\n",
                " 'hand',\n",
                " 'guys',\n",
                " 'got',\n",
                " 'gives',\n",
                " 'genre',\n",
                " 'filmbr',\n",
                " 'feeling',\n",
                " 'favorite',\n",
                " 'fast',\n",
                " 'familiar',\n",
                " 'eye',\n",
                " 'enjoyed',\n",
                " 'emotional',\n",
                " 'easily',\n",
                " 'disappointed',\n",
                " 'decent',\n",
                " 'days',\n",
                " 'couple',\n",
                " 'comment',\n",
                " 'comic',\n",
                " 'cinema',\n",
                " 'career',\n",
                " 'care',\n",
                " 'car',\n",
                " 'bunch',\n",
                " 'bring',\n",
                " 'brilliant',\n",
                " 'bright',\n",
                " 'books',\n",
                " 'band',\n",
                " 'animation',\n",
                " '3',\n",
                " '12',\n",
                " '\\x85',\n",
                " 'yourself',\n",
                " 'younger',\n",
                " 'year',\n",
                " 'word',\n",
                " 'wild',\n",
                " 'whom',\n",
                " 'werent',\n",
                " 'weird',\n",
                " 'warrior',\n",
                " 'truth',\n",
                " 'tries',\n",
                " 'thrown',\n",
                " 'theory',\n",
                " 'themselves',\n",
                " 'superb',\n",
                " 'street',\n",
                " 'strange',\n",
                " 'stories',\n",
                " 'stooges',\n",
                " 'stage',\n",
                " 'songs',\n",
                " 'song',\n",
                " 'somewhat',\n",
                " 'slow',\n",
                " 'skull',\n",
                " 'silly',\n",
                " 'sign',\n",
                " 'setting',\n",
                " 'sadly',\n",
                " 'run',\n",
                " 'rich',\n",
                " 'review',\n",
                " 'return',\n",
                " 'remarkable',\n",
                " 'red',\n",
                " 'question',\n",
                " 'quality',\n",
                " 'previous',\n",
                " 'presidents',\n",
                " 'premise',\n",
                " 'possibly',\n",
                " 'physics',\n",
                " 'particular',\n",
                " 'particles',\n",
                " 'oscar',\n",
                " 'ok',\n",
                " 'number',\n",
                " 'nancy',\n",
                " 'naked',\n",
                " 'muni',\n",
                " 'mrs',\n",
                " 'moments',\n",
                " 'meant',\n",
                " 'matter',\n",
                " 'material',\n",
                " 'male',\n",
                " 'lynch',\n",
                " 'loved',\n",
                " 'lost',\n",
                " 'lines',\n",
                " 'level',\n",
                " 'leaves',\n",
                " 'lamm',\n",
                " 'kelly',\n",
                " 'keller',\n",
                " 'keep',\n",
                " 'james',\n",
                " 'itself',\n",
                " 'itbr',\n",
                " 'immediately',\n",
                " 'imagination',\n",
                " 'hours',\n",
                " 'highly',\n",
                " 'help',\n",
                " 'hell',\n",
                " 'havent',\n",
                " 'harlow',\n",
                " 'happens',\n",
                " 'happen',\n",
                " 'guess',\n",
                " 'greatest',\n",
                " 'gone',\n",
                " 'fuquas',\n",
                " 'friend',\n",
                " 'fresh',\n",
                " 'floor',\n",
                " 'fire',\n",
                " 'fight',\n",
                " 'father',\n",
                " 'extremely',\n",
                " 'escape',\n",
                " 'enjoyable',\n",
                " 'effects',\n",
                " 'drama',\n",
                " 'directors',\n",
                " 'directed',\n",
                " 'died',\n",
                " 'die',\n",
                " 'described',\n",
                " 'decided',\n",
                " 'decide',\n",
                " 'david',\n",
                " 'daughter',\n",
                " 'dark',\n",
                " 'cute',\n",
                " 'crap',\n",
                " 'count',\n",
                " 'control',\n",
                " 'comments',\n",
                " 'change',\n",
                " 'case',\n",
                " 'carry',\n",
                " 'came',\n",
                " 'cal',\n",
                " 'bourne',\n",
                " 'bored',\n",
                " 'become',\n",
                " 'basically',\n",
                " 'available',\n",
                " 'attention',\n",
                " 'atmosphere',\n",
                " 'apparently',\n",
                " 'apart',\n",
                " 'annoying',\n",
                " 'andre',\n",
                " 'amusing',\n",
                " 'already',\n",
                " 'ago',\n",
                " 'add',\n",
                " 'actress',\n",
                " 'ability',\n",
                " '2',\n",
                " 'wrote',\n",
                " 'wrong',\n",
                " 'writers',\n",
                " 'writer',\n",
                " 'worse',\n",
                " 'women',\n",
                " 'within',\n",
                " 'winner',\n",
                " 'williams',\n",
                " 'whos',\n",
                " 'went',\n",
                " 'weekly',\n",
                " 'ways',\n",
                " 'waste',\n",
                " 'unlike',\n",
                " 'understanding',\n",
                " 'tournament',\n",
                " 'tough',\n",
                " 'touching',\n",
                " 'touch',\n",
                " 'totally',\n",
                " 'tim',\n",
                " 'themes',\n",
                " 'teachers',\n",
                " 'taken',\n",
                " 'superhero',\n",
                " 'straight',\n",
                " 'store',\n",
                " 'stop',\n",
                " 'spoilers',\n",
                " 'sound',\n",
                " 'sorry',\n",
                " 'solvang',\n",
                " 'solid',\n",
                " 'smart',\n",
                " 'skilled',\n",
                " 'sit',\n",
                " 'sidney',\n",
                " 'sexual',\n",
                " 'sex',\n",
                " 'sensitive',\n",
                " 'screaming',\n",
                " 'schools',\n",
                " 'saying',\n",
                " 'saved',\n",
                " 'save',\n",
                " 'satisfying',\n",
                " 'romance',\n",
                " 'roger',\n",
                " 'robert',\n",
                " 'richard',\n",
                " 'rent',\n",
                " 'reminds',\n",
                " 'pushing',\n",
                " 'producers',\n",
                " 'problems',\n",
                " 'princess',\n",
                " 'predictable',\n",
                " 'precious',\n",
                " 'powerful',\n",
                " 'positive',\n",
                " 'popular',\n",
                " 'playing',\n",
                " 'phantom',\n",
                " 'peptides',\n",
                " 'pathetic',\n",
                " 'parts',\n",
                " 'originally',\n",
                " 'order',\n",
                " 'opinion',\n",
                " 'opening',\n",
                " 'office',\n",
                " 'nowhere',\n",
                " 'normal',\n",
                " 'none',\n",
                " 'no2',\n",
                " 'no1',\n",
                " 'nightmare',\n",
                " 'near',\n",
                " 'nature',\n",
                " 'mystery',\n",
                " 'myself',\n",
                " 'musical',\n",
                " 'moving',\n",
                " 'missouri',\n",
                " 'middle',\n",
                " 'message',\n",
                " 'merely',\n",
                " 'means',\n",
                " 'matt',\n",
                " 'magic',\n",
                " 'luise',\n",
                " 'loss',\n",
                " 'live',\n",
                " 'list',\n",
                " 'light',\n",
                " 'left',\n",
                " 'leads',\n",
                " 'law',\n",
                " 'laugh',\n",
                " 'lana',\n",
                " 'lame',\n",
                " 'ladies',\n",
                " 'lacks',\n",
                " 'kept',\n",
                " 'interested',\n",
                " 'information',\n",
                " 'incredibly',\n",
                " 'including',\n",
                " 'husband',\n",
                " 'hope',\n",
                " 'holiday',\n",
                " 'hold',\n",
                " 'heard',\n",
                " 'hasnt',\n",
                " 'happy',\n",
                " 'half',\n",
                " 'group',\n",
                " 'gorgeous',\n",
                " 'god',\n",
                " 'getting',\n",
                " 'george',\n",
                " 'general',\n",
                " 'game',\n",
                " 'friends',\n",
                " 'frank',\n",
                " 'fourth',\n",
                " 'forward',\n",
                " 'forget',\n",
                " 'force',\n",
                " 'folks',\n",
                " 'finish',\n",
                " 'final',\n",
                " 'figure',\n",
                " 'fights',\n",
                " 'feature',\n",
                " 'fart',\n",
                " 'fantastic',\n",
                " 'false',\n",
                " 'falls',\n",
                " 'fall',\n",
                " 'face',\n",
                " 'expression',\n",
                " 'explanation',\n",
                " 'expected',\n",
                " 'exactly',\n",
                " 'exact',\n",
                " 'ends',\n",
                " 'emotions',\n",
                " 'due',\n",
                " 'dixon',\n",
                " 'disturbing',\n",
                " 'disney',\n",
                " 'different',\n",
                " 'dialogue',\n",
                " 'development',\n",
                " 'detail',\n",
                " 'definitely',\n",
                " 'cut',\n",
                " 'critics',\n",
                " 'creative',\n",
                " 'copy',\n",
                " 'convincing',\n",
                " 'convey',\n",
                " 'continue',\n",
                " 'considering',\n",
                " 'closer',\n",
                " 'clearly',\n",
                " 'clarkson',\n",
                " 'christopher',\n",
                " 'children',\n",
                " 'cheap',\n",
                " 'candy',\n",
                " 'calls',\n",
                " 'brothers',\n",
                " 'bromwell',\n",
                " 'brings',\n",
                " 'box',\n",
                " 'bottom',\n",
                " 'boring',\n",
                " 'body',\n",
                " 'blood',\n",
                " 'beyond',\n",
                " 'background',\n",
                " 'attempt',\n",
                " 'artsy',\n",
                " 'approach',\n",
                " 'appear',\n",
                " 'anybody',\n",
                " 'amazing',\n",
                " 'al',\n",
                " 'air',\n",
                " 'advice',\n",
                " 'actresses',\n",
                " 'accept',\n",
                " '20',\n",
                " '1',\n",
                " 'zombi',\n",
                " 'wouldnt',\n",
                " 'works',\n",
                " 'whose',\n",
                " 'whenever',\n",
                " 'whats',\n",
                " 'whatever',\n",
                " 'welcome',\n",
                " 'weak',\n",
                " 'wasted',\n",
                " 'wanted',\n",
                " 'wait',\n",
                " 'voice',\n",
                " 'village',\n",
                " 'viewers',\n",
                " 'viewer',\n",
                " 'view',\n",
                " 'various',\n",
                " 'variety',\n",
                " 'van',\n",
                " 'value',\n",
                " 'usbr',\n",
                " 'unseen',\n",
                " 'universal',\n",
                " 'uniquely',\n",
                " 'unique',\n",
                " 'underrated',\n",
                " 'unbelievable',\n",
                " 'typically',\n",
                " 'typical',\n",
                " 'transfer',\n",
                " 'tragic',\n",
                " 'toyboy',\n",
                " 'total',\n",
                " 'tone',\n",
                " 'told',\n",
                " 'todesking',\n",
                " 'titanic',\n",
                " 'tired',\n",
                " 'threatening',\n",
                " 'thin',\n",
                " 'thank',\n",
                " 'ten',\n",
                " 'tells',\n",
                " 'teenagers',\n",
                " 'target',\n",
                " 'talking',\n",
                " 'taking',\n",
                " 'sympathy',\n",
                " 'susan',\n",
                " 'surrounded',\n",
                " 'surprises',\n",
                " 'supposed',\n",
                " 'suppose',\n",
                " 'summer',\n",
                " 'suffering',\n",
                " 'suffer',\n",
                " 'subtle',\n",
                " 'subatomic',\n",
                " 'stuff',\n",
                " 'study',\n",
                " 'student',\n",
                " 'stuck',\n",
                " 'stone',\n",
                " 'stick',\n",
                " 'steven',\n",
                " 'state',\n",
                " 'started',\n",
                " 'standard',\n",
                " 'spectacular',\n",
                " 'special',\n",
                " 'speaking',\n",
                " 'spanish',\n",
                " 'soundtrack',\n",
                " 'son',\n",
                " 'somehow',\n",
                " 'solar',\n",
                " 'society',\n",
                " 'social',\n",
                " 'slave',\n",
                " 'sky',\n",
                " 'sixties',\n",
                " 'sisters',\n",
                " 'sings',\n",
                " 'single',\n",
                " 'sing',\n",
                " 'simple',\n",
                " 'shown',\n",
                " 'shot',\n",
                " 'shame',\n",
                " 'several',\n",
                " 'sequel',\n",
                " 'sell',\n",
                " 'segal',\n",
                " 'secret',\n",
                " ...]"
              ]
            },
            "metadata": {},
            "execution_count": 16
          }
        ]
      },
      {
        "cell_type": "code",
        "source": [
          "demo_model = tf.keras.models.Sequential([vectorize_layer])\n",
          "\n",
          "demo_model.predict([[\"This is a sentence.\"],\n",
          "                    [\"This is another sentence.\"]])"
        ],
        "metadata": {
          "colab": {
            "base_uri": "https://localhost:8080/"
          },
          "id": "Elatb1a_x3u2",
          "executionInfo": {
            "status": "ok",
            "timestamp": 1709565714320,
            "user_tz": -240,
            "elapsed": 1858,
            "user": {
              "displayName": "Kayan Irani",
              "userId": "16819603326667996950"
            }
          },
          "outputId": "d4bbc785-fdfd-46cd-b06e-fefe7a355b26"
        },
        "execution_count": null,
        "outputs": [
          {
            "output_type": "stream",
            "name": "stdout",
            "text": [
              "1/1 [==============================] - 2s 2s/step\n"
            ]
          },
          {
            "output_type": "execute_result",
            "data": {
              "text/plain": [
                "array([[  9,   7,   5,   1,   0,   0,   0,   0,   0,   0],\n",
                "       [  9,   7, 174,   1,   0,   0,   0,   0,   0,   0]])"
              ]
            },
            "metadata": {},
            "execution_count": 17
          }
        ]
      },
      {
        "cell_type": "markdown",
        "source": [
          "# 1.4 Word Embeddings\n",
          "\n",
          "Rather than simply converting the words into integers each word is converted into a vector of floats that can better represent the meanings and relations between different words."
        ],
        "metadata": {
          "id": "rWTDO4huzNp4"
        }
      },
      {
        "cell_type": "markdown",
        "source": [
          "![](https://miro.medium.com/v2/resize:fit:1200/1*sAJdxEsDjsPMioHyzlN3_A.png)"
        ],
        "metadata": {
          "id": "QznA3Kk20MQs"
        }
      },
      {
        "cell_type": "code",
        "source": [
          "vector_size = 5\n",
          "embedding_layer = tf.keras.layers.Embedding(max_num_words, vector_size)\n",
          "\n",
          "encodings = demo_model.predict([[\"This is a sentence.\"]])\n",
          "\n",
          "print(encodings)\n",
          "\n",
          "embeddings = embedding_layer(tf.constant(encodings))\n",
          "\n",
          "print(embeddings)\n",
          "\n",
          "print(encodings.shape, embeddings.shape)"
        ],
        "metadata": {
          "colab": {
            "base_uri": "https://localhost:8080/"
          },
          "id": "IVI81leZ0eWh",
          "executionInfo": {
            "status": "ok",
            "timestamp": 1709565714320,
            "user_tz": -240,
            "elapsed": 5,
            "user": {
              "displayName": "Kayan Irani",
              "userId": "16819603326667996950"
            }
          },
          "outputId": "21ff5e5d-cf1d-4ab5-bd0b-fa7ee76e1a93"
        },
        "execution_count": null,
        "outputs": [
          {
            "output_type": "stream",
            "name": "stdout",
            "text": [
              "1/1 [==============================] - 0s 29ms/step\n",
              "[[9 7 5 1 0 0 0 0 0 0]]\n",
              "tf.Tensor(\n",
              "[[[-0.00929177 -0.02961112  0.01572095 -0.00546347 -0.04501405]\n",
              "  [ 0.04436645  0.02971524 -0.02868166 -0.02332792  0.03999862]\n",
              "  [-0.04126833  0.03574758 -0.02727452 -0.03438221  0.01604876]\n",
              "  [-0.02054843  0.036926   -0.04109913 -0.03033973  0.02770685]\n",
              "  [-0.03339513  0.04378723 -0.02956108 -0.02224633 -0.00406911]\n",
              "  [-0.03339513  0.04378723 -0.02956108 -0.02224633 -0.00406911]\n",
              "  [-0.03339513  0.04378723 -0.02956108 -0.02224633 -0.00406911]\n",
              "  [-0.03339513  0.04378723 -0.02956108 -0.02224633 -0.00406911]\n",
              "  [-0.03339513  0.04378723 -0.02956108 -0.02224633 -0.00406911]\n",
              "  [-0.03339513  0.04378723 -0.02956108 -0.02224633 -0.00406911]]], shape=(1, 10, 5), dtype=float32)\n",
              "(1, 10) (1, 10, 5)\n"
            ]
          }
        ]
      },
      {
        "cell_type": "markdown",
        "source": [
          "We can explore a dataset of complex imbeddings at this site [embed_visu](https://projector.tensorflow.org/) .\n"
        ],
        "metadata": {
          "id": "Z--XZf131gNL"
        }
      },
      {
        "cell_type": "markdown",
        "source": [
          "We can also use pre-trained models from tensorflow-hub to create embeddings for our data.\n"
        ],
        "metadata": {
          "id": "xBv7q-vm1sCe"
        }
      },
      {
        "cell_type": "markdown",
        "source": [
          "# 2. Training a Model"
        ],
        "metadata": {
          "id": "9jIqLwvpkmvm"
        }
      },
      {
        "cell_type": "markdown",
        "source": [
          "## 2.1 Model with Tokenization"
        ],
        "metadata": {
          "id": "mJXpQ7szkpkE"
        }
      },
      {
        "cell_type": "markdown",
        "source": [
          "For the first model, we only use tokenization to construct the model."
        ],
        "metadata": {
          "id": "mvG1oHibktj0"
        }
      },
      {
        "cell_type": "code",
        "source": [
          "max_num_words = 32 * 10**3\n",
          "vectorize_layer = tf.keras.layers.TextVectorization(\n",
          " max_tokens=max_num_words,\n",
          " output_mode='int',\n",
          " output_sequence_length=10)\n",
          "\n",
          "vectorize_layer.adapt(text_dataset)\n",
          "\n",
          "model = tf.keras.models.Sequential([])\n",
          "model.add(vectorize_layer)\n",
          "\n",
          "model.add(tf.keras.layers.Dense(256, activation='relu'))\n",
          "model.add(tf.keras.layers.Dense(128, activation='relu'))\n",
          "model.add(tf.keras.layers.Dense(64, activation='relu'))\n",
          "model.add(tf.keras.layers.Dense(1, activation='sigmoid'))\n"
        ],
        "metadata": {
          "id": "iq9CNNqM1z5V"
        },
        "execution_count": null,
        "outputs": []
      },
      {
        "cell_type": "code",
        "source": [
          "model.compile(optimizer='adam',\n",
          "              loss=tf.keras.losses.BinaryCrossentropy(from_logits=True),\n",
          "              metrics=['accuracy'])"
        ],
        "metadata": {
          "id": "-FhxxvM0keah"
        },
        "execution_count": null,
        "outputs": []
      },
      {
        "cell_type": "code",
        "source": [
          "history = model.fit(train_data.shuffle(10000).batch(512),\n",
          "                    epochs=10,\n",
          "                    validation_data=validation_data.batch(512),\n",
          "                    verbose=1)"
        ],
        "metadata": {
          "colab": {
            "base_uri": "https://localhost:8080/"
          },
          "id": "oR7OGl2Ikedp",
          "executionInfo": {
            "status": "ok",
            "timestamp": 1709565910525,
            "user_tz": -240,
            "elapsed": 26921,
            "user": {
              "displayName": "Kayan Irani",
              "userId": "16819603326667996950"
            }
          },
          "outputId": "929f64a7-d24d-4012-a02f-ea9a85707760"
        },
        "execution_count": null,
        "outputs": [
          {
            "output_type": "stream",
            "name": "stdout",
            "text": [
              "Epoch 1/10\n"
            ]
          },
          {
            "output_type": "stream",
            "name": "stderr",
            "text": [
              "/usr/local/lib/python3.10/dist-packages/keras/src/backend.py:5818: UserWarning: \"`binary_crossentropy` received `from_logits=True`, but the `output` argument was produced by a Sigmoid activation and thus does not represent logits. Was this intended?\n",
              "  output, from_logits = _get_logits(\n"
            ]
          },
          {
            "output_type": "stream",
            "name": "stdout",
            "text": [
              "30/30 [==============================] - 6s 79ms/step - loss: 21.2472 - accuracy: 0.5035 - val_loss: 5.6720 - val_accuracy: 0.5039\n",
              "Epoch 2/10\n",
              "30/30 [==============================] - 2s 49ms/step - loss: 3.9529 - accuracy: 0.4993 - val_loss: 3.1013 - val_accuracy: 0.5024\n",
              "Epoch 3/10\n",
              "30/30 [==============================] - 3s 89ms/step - loss: 2.5204 - accuracy: 0.5208 - val_loss: 2.6518 - val_accuracy: 0.5077\n",
              "Epoch 4/10\n",
              "30/30 [==============================] - 2s 50ms/step - loss: 2.1447 - accuracy: 0.5248 - val_loss: 2.2500 - val_accuracy: 0.5135\n",
              "Epoch 5/10\n",
              "30/30 [==============================] - 2s 51ms/step - loss: 1.9726 - accuracy: 0.5207 - val_loss: 2.1544 - val_accuracy: 0.5062\n",
              "Epoch 6/10\n",
              "30/30 [==============================] - 2s 51ms/step - loss: 1.6089 - accuracy: 0.5340 - val_loss: 2.2512 - val_accuracy: 0.5040\n",
              "Epoch 7/10\n",
              "30/30 [==============================] - 2s 51ms/step - loss: 1.7370 - accuracy: 0.5302 - val_loss: 2.1943 - val_accuracy: 0.5019\n",
              "Epoch 8/10\n",
              "30/30 [==============================] - 2s 62ms/step - loss: 1.6039 - accuracy: 0.5445 - val_loss: 2.0347 - val_accuracy: 0.5107\n",
              "Epoch 9/10\n",
              "30/30 [==============================] - 2s 51ms/step - loss: 1.4045 - accuracy: 0.5477 - val_loss: 1.9095 - val_accuracy: 0.5039\n",
              "Epoch 10/10\n",
              "30/30 [==============================] - 2s 49ms/step - loss: 1.5053 - accuracy: 0.5453 - val_loss: 2.0738 - val_accuracy: 0.5107\n"
            ]
          }
        ]
      },
      {
        "cell_type": "code",
        "source": [
          "from matplotlib import pyplot as plt\n",
          "plt.plot(history.history['accuracy'])\n",
          "\n",
          "plt.plot(history.history['val_accuracy'])\n",
          "plt.title('model accuracy')\n",
          "plt.ylabel('accuracy')\n",
          "plt.xlabel('epoch')\n",
          "plt.legend(['train', 'val'], loc='upper left')\n",
          "plt.show()"
        ],
        "metadata": {
          "colab": {
            "base_uri": "https://localhost:8080/",
            "height": 472
          },
          "id": "J7wso3w9lBph",
          "executionInfo": {
            "status": "ok",
            "timestamp": 1709565934799,
            "user_tz": -240,
            "elapsed": 1169,
            "user": {
              "displayName": "Kayan Irani",
              "userId": "16819603326667996950"
            }
          },
          "outputId": "11b385bd-bbaf-484e-876f-a6810aff3da1"
        },
        "execution_count": null,
        "outputs": [
          {
            "output_type": "display_data",
            "data": {
              "text/plain": [
                "<Figure size 640x480 with 1 Axes>"
              ],
              "image/png": "[encoded data removed]"
            },
            "metadata": {}
          }
        ]
      },
      {
        "cell_type": "code",
        "source": [
          "plt.plot(history.history['loss'])\n",
          "\n",
          "plt.plot(history.history['val_loss'])\n",
          "plt.title('model loss')\n",
          "plt.ylabel('loss')\n",
          "plt.xlabel('epoch')\n",
          "plt.legend(['train', 'val'], loc='upper right')\n",
          "plt.show()"
        ],
        "metadata": {
          "colab": {
            "base_uri": "https://localhost:8080/",
            "height": 472
          },
          "id": "9nXAXiE2lHwo",
          "executionInfo": {
            "status": "ok",
            "timestamp": 1709565935829,
            "user_tz": -240,
            "elapsed": 616,
            "user": {
              "displayName": "Kayan Irani",
              "userId": "16819603326667996950"
            }
          },
          "outputId": "d4043152-fd66-4332-ffc8-f744384a1809"
        },
        "execution_count": null,
        "outputs": [
          {
            "output_type": "display_data",
            "data": {
              "text/plain": [
                "<Figure size 640x480 with 1 Axes>"
              ],
              "image/png": "[encoded data removed]"
            },
            "metadata": {}
          }
        ]
      },
      {
        "cell_type": "markdown",
        "source": [
          "## 2.2 Model with Tokenization and Embeddings"
        ],
        "metadata": {
          "id": "cPby5MF7lU1J"
        }
      },
      {
        "cell_type": "markdown",
        "source": [
          "Now we add an embedding layer to our model."
        ],
        "metadata": {
          "id": "Tr-EDI_Cla5J"
        }
      },
      {
        "cell_type": "code",
        "source": [
          "max_num_words = 32 * 10**3\n",
          "vectorize_layer = tf.keras.layers.TextVectorization(\n",
          " max_tokens=max_num_words,\n",
          " output_mode='int',\n",
          " output_sequence_length=10)\n",
          "\n",
          "vector_size = 16\n",
          "embedding_layer = tf.keras.layers.Embedding(max_num_words, vector_size)\n",
          "\n",
          "vectorize_layer.adapt(text_dataset)\n",
          "\n",
          "model = tf.keras.models.Sequential([])\n",
          "model.add(vectorize_layer)\n",
          "model.add(embedding_layer)\n",
          "model.add(tf.keras.layers.GlobalAveragePooling1D(),)\n",
          "\n",
          "model.add(tf.keras.layers.Dense(256, activation='relu'))\n",
          "model.add(tf.keras.layers.Dense(128, activation='relu'))\n",
          "model.add(tf.keras.layers.Dense(64, activation='relu'))\n",
          "model.add(tf.keras.layers.Dense(1, activation='sigmoid'))\n"
        ],
        "metadata": {
          "id": "QGn-5JtzleCb"
        },
        "execution_count": null,
        "outputs": []
      },
      {
        "cell_type": "code",
        "source": [
          "model.compile(optimizer='adam',\n",
          "              loss=tf.keras.losses.BinaryCrossentropy(from_logits=True),\n",
          "              metrics=['accuracy'])"
        ],
        "metadata": {
          "id": "8VaRxtG0lenb"
        },
        "execution_count": null,
        "outputs": []
      },
      {
        "cell_type": "code",
        "source": [
          "history = model.fit(train_data.shuffle(10000).batch(512),\n",
          "                    epochs=10,\n",
          "                    validation_data=validation_data.batch(512),\n",
          "                    verbose=1)"
        ],
        "metadata": {
          "colab": {
            "base_uri": "https://localhost:8080/"
          },
          "id": "1mVwfO_pleqC",
          "executionInfo": {
            "status": "ok",
            "timestamp": 1709566091506,
            "user_tz": -240,
            "elapsed": 42259,
            "user": {
              "displayName": "Kayan Irani",
              "userId": "16819603326667996950"
            }
          },
          "outputId": "48f3a94f-a83b-44e3-da4c-1271f6e27a27"
        },
        "execution_count": null,
        "outputs": [
          {
            "output_type": "stream",
            "name": "stdout",
            "text": [
              "Epoch 1/10\n",
              "30/30 [==============================] - 10s 224ms/step - loss: 0.6902 - accuracy: 0.5380 - val_loss: 0.6817 - val_accuracy: 0.5790\n",
              "Epoch 2/10\n",
              "30/30 [==============================] - 6s 203ms/step - loss: 0.6398 - accuracy: 0.6440 - val_loss: 0.6383 - val_accuracy: 0.6364\n",
              "Epoch 3/10\n",
              "30/30 [==============================] - 4s 105ms/step - loss: 0.5606 - accuracy: 0.7078 - val_loss: 0.6208 - val_accuracy: 0.6532\n",
              "Epoch 4/10\n",
              "30/30 [==============================] - 3s 93ms/step - loss: 0.5203 - accuracy: 0.7348 - val_loss: 0.6346 - val_accuracy: 0.6518\n",
              "Epoch 5/10\n",
              "30/30 [==============================] - 3s 88ms/step - loss: 0.5005 - accuracy: 0.7482 - val_loss: 0.6475 - val_accuracy: 0.6528\n",
              "Epoch 6/10\n",
              "30/30 [==============================] - 4s 128ms/step - loss: 0.4894 - accuracy: 0.7507 - val_loss: 0.6617 - val_accuracy: 0.6506\n",
              "Epoch 7/10\n",
              "30/30 [==============================] - 3s 93ms/step - loss: 0.4858 - accuracy: 0.7563 - val_loss: 0.6699 - val_accuracy: 0.6465\n",
              "Epoch 8/10\n",
              "30/30 [==============================] - 3s 78ms/step - loss: 0.4756 - accuracy: 0.7599 - val_loss: 0.6864 - val_accuracy: 0.6469\n",
              "Epoch 9/10\n",
              "30/30 [==============================] - 3s 82ms/step - loss: 0.4719 - accuracy: 0.7629 - val_loss: 0.6984 - val_accuracy: 0.6415\n",
              "Epoch 10/10\n",
              "30/30 [==============================] - 4s 118ms/step - loss: 0.4670 - accuracy: 0.7647 - val_loss: 0.6989 - val_accuracy: 0.6417\n"
            ]
          }
        ]
      },
      {
        "cell_type": "code",
        "source": [
          "model.summary()"
        ],
        "metadata": {
          "colab": {
            "base_uri": "https://localhost:8080/"
          },
          "id": "eTD7eAISFPwl",
          "executionInfo": {
            "status": "ok",
            "timestamp": 1709566140318,
            "user_tz": -240,
            "elapsed": 7,
            "user": {
              "displayName": "Kayan Irani",
              "userId": "16819603326667996950"
            }
          },
          "outputId": "f6f83124-ff2e-4596-b353-80517a746767"
        },
        "execution_count": null,
        "outputs": [
          {
            "output_type": "stream",
            "name": "stdout",
            "text": [
              "Model: \"sequential_2\"\n",
              "_________________________________________________________________\n",
              " Layer (type)                Output Shape              Param #   \n",
              "=================================================================\n",
              " text_vectorization_2 (Text  (None, 10)                0         \n",
              " Vectorization)                                                  \n",
              "                                                                 \n",
              " embedding_1 (Embedding)     (None, 10, 16)            512000    \n",
              "                                                                 \n",
              " global_average_pooling1d (  (None, 16)                0         \n",
              " GlobalAveragePooling1D)                                         \n",
              "                                                                 \n",
              " dense_4 (Dense)             (None, 256)               4352      \n",
              "                                                                 \n",
              " dense_5 (Dense)             (None, 128)               32896     \n",
              "                                                                 \n",
              " dense_6 (Dense)             (None, 64)                8256      \n",
              "                                                                 \n",
              " dense_7 (Dense)             (None, 1)                 65        \n",
              "                                                                 \n",
              "=================================================================\n",
              "Total params: 557569 (2.13 MB)\n",
              "Trainable params: 557569 (2.13 MB)\n",
              "Non-trainable params: 0 (0.00 Byte)\n",
              "_________________________________________________________________\n"
            ]
          }
        ]
      },
      {
        "cell_type": "code",
        "source": [
          "from matplotlib import pyplot as plt\n",
          "plt.plot(history.history['accuracy'])\n",
          "\n",
          "plt.plot(history.history['val_accuracy'])\n",
          "plt.title('model accuracy')\n",
          "plt.ylabel('accuracy')\n",
          "plt.xlabel('epoch')\n",
          "plt.legend(['train', 'val'], loc='upper left')\n",
          "plt.show()"
        ],
        "metadata": {
          "colab": {
            "base_uri": "https://localhost:8080/",
            "height": 472
          },
          "id": "ogYjnV4mlteO",
          "executionInfo": {
            "status": "ok",
            "timestamp": 1709566247011,
            "user_tz": -240,
            "elapsed": 1068,
            "user": {
              "displayName": "Kayan Irani",
              "userId": "16819603326667996950"
            }
          },
          "outputId": "e0388a1d-b430-443e-b19d-1d6dc435a81f"
        },
        "execution_count": null,
        "outputs": [
          {
            "output_type": "display_data",
            "data": {
              "text/plain": [
                "<Figure size 640x480 with 1 Axes>"
              ],
              "image/png": "[encoded data removed]"
            },
            "metadata": {}
          }
        ]
      },
      {
        "cell_type": "code",
        "source": [
          "plt.plot(history.history['loss'])\n",
          "\n",
          "plt.plot(history.history['val_loss'])\n",
          "plt.title('model loss')\n",
          "plt.ylabel('loss')\n",
          "plt.xlabel('epoch')\n",
          "plt.legend(['train', 'val'], loc='upper right')\n",
          "plt.show()"
        ],
        "metadata": {
          "colab": {
            "base_uri": "https://localhost:8080/",
            "height": 472
          },
          "id": "gnv6yRTSlesZ",
          "executionInfo": {
            "status": "ok",
            "timestamp": 1709566291489,
            "user_tz": -240,
            "elapsed": 646,
            "user": {
              "displayName": "Kayan Irani",
              "userId": "16819603326667996950"
            }
          },
          "outputId": "2fe12611-932b-4a71-fc2f-dd15eec3d12c"
        },
        "execution_count": null,
        "outputs": [
          {
            "output_type": "display_data",
            "data": {
              "text/plain": [
                "<Figure size 640x480 with 1 Axes>"
              ],
              "image/png": "[encoded data removed]"
            },
            "metadata": {}
          }
        ]
      },
      {
        "cell_type": "markdown",
        "source": [
          "## 2.3 Model with Pre-trained Embeddings"
        ],
        "metadata": {
          "id": "aoF9Oi0SmF7U"
        }
      },
      {
        "cell_type": "code",
        "source": [
          "embedding = \"https://tfhub.dev/google/nnlm-en-dim50/2\"\n",
          "hub_layer = hub.KerasLayer(embedding, input_shape=[],\n",
          "                           dtype=tf.string, trainable=True)\n",
          "\n",
          "\n",
          "model = tf.keras.models.Sequential([])\n",
          "model.add(hub_layer)\n",
          "\n",
          "model.add(tf.keras.layers.Dense(256, activation='relu'))\n",
          "model.add(tf.keras.layers.Dense(128, activation='relu'))\n",
          "model.add(tf.keras.layers.Dense(64, activation='relu'))\n",
          "model.add(tf.keras.layers.Dense(1, activation='sigmoid'))\n",
          "\n",
          "model.summary()\n"
        ],
        "metadata": {
          "colab": {
            "base_uri": "https://localhost:8080/"
          },
          "id": "pWo8kOVBmKJ5",
          "executionInfo": {
            "status": "ok",
            "timestamp": 1709566523445,
            "user_tz": -240,
            "elapsed": 6336,
            "user": {
              "displayName": "Kayan Irani",
              "userId": "16819603326667996950"
            }
          },
          "outputId": "b16853b9-b1c2-4b78-9dd6-df66b2e90370"
        },
        "execution_count": null,
        "outputs": [
          {
            "output_type": "stream",
            "name": "stdout",
            "text": [
              "Model: \"sequential_3\"\n",
              "_________________________________________________________________\n",
              " Layer (type)                Output Shape              Param #   \n",
              "=================================================================\n",
              " keras_layer (KerasLayer)    (None, 50)                48190600  \n",
              "                                                                 \n",
              " dense_8 (Dense)             (None, 256)               13056     \n",
              "                                                                 \n",
              " dense_9 (Dense)             (None, 128)               32896     \n",
              "                                                                 \n",
              " dense_10 (Dense)            (None, 64)                8256      \n",
              "                                                                 \n",
              " dense_11 (Dense)            (None, 1)                 65        \n",
              "                                                                 \n",
              "=================================================================\n",
              "Total params: 48244873 (184.04 MB)\n",
              "Trainable params: 48244873 (184.04 MB)\n",
              "Non-trainable params: 0 (0.00 Byte)\n",
              "_________________________________________________________________\n"
            ]
          }
        ]
      },
      {
        "cell_type": "code",
        "source": [
          "model.compile(optimizer='adam',\n",
          "              loss=tf.keras.losses.BinaryCrossentropy(from_logits=True),\n",
          "              metrics=['accuracy'])"
        ],
        "metadata": {
          "id": "0-RFR8gDmKMg"
        },
        "execution_count": null,
        "outputs": []
      },
      {
        "cell_type": "code",
        "source": [
          "history = model.fit(train_data.shuffle(10000).batch(512),\n",
          "                    epochs=10,\n",
          "                    validation_data=validation_data.batch(512),\n",
          "                    verbose=1)"
        ],
        "metadata": {
          "colab": {
            "base_uri": "https://localhost:8080/"
          },
          "id": "e-GLgKFmmKPG",
          "executionInfo": {
            "status": "ok",
            "timestamp": 1709566631190,
            "user_tz": -240,
            "elapsed": 72807,
            "user": {
              "displayName": "Kayan Irani",
              "userId": "16819603326667996950"
            }
          },
          "outputId": "90f275b3-b733-42e1-d74c-39eec0b30a76"
        },
        "execution_count": null,
        "outputs": [
          {
            "output_type": "stream",
            "name": "stdout",
            "text": [
              "Epoch 1/10\n"
            ]
          },
          {
            "output_type": "stream",
            "name": "stderr",
            "text": [
              "/usr/local/lib/python3.10/dist-packages/keras/src/backend.py:5818: UserWarning: \"`binary_crossentropy` received `from_logits=True`, but the `output` argument was produced by a Sigmoid activation and thus does not represent logits. Was this intended?\n",
              "  output, from_logits = _get_logits(\n"
            ]
          },
          {
            "output_type": "stream",
            "name": "stdout",
            "text": [
              "30/30 [==============================] - 9s 236ms/step - loss: 0.5568 - accuracy: 0.7300 - val_loss: 0.4629 - val_accuracy: 0.7849\n",
              "Epoch 2/10\n",
              "30/30 [==============================] - 6s 195ms/step - loss: 0.3504 - accuracy: 0.8473 - val_loss: 0.3545 - val_accuracy: 0.8508\n",
              "Epoch 3/10\n",
              "30/30 [==============================] - 6s 201ms/step - loss: 0.2080 - accuracy: 0.9231 - val_loss: 0.3448 - val_accuracy: 0.8621\n",
              "Epoch 4/10\n",
              "30/30 [==============================] - 6s 195ms/step - loss: 0.1106 - accuracy: 0.9653 - val_loss: 0.3862 - val_accuracy: 0.8645\n",
              "Epoch 5/10\n",
              "30/30 [==============================] - 6s 193ms/step - loss: 0.0471 - accuracy: 0.9887 - val_loss: 0.4697 - val_accuracy: 0.8610\n",
              "Epoch 6/10\n",
              "30/30 [==============================] - 6s 209ms/step - loss: 0.0180 - accuracy: 0.9968 - val_loss: 0.5547 - val_accuracy: 0.8628\n",
              "Epoch 7/10\n",
              "30/30 [==============================] - 6s 199ms/step - loss: 0.0065 - accuracy: 0.9993 - val_loss: 0.6277 - val_accuracy: 0.8617\n",
              "Epoch 8/10\n",
              "30/30 [==============================] - 7s 215ms/step - loss: 0.0031 - accuracy: 0.9996 - val_loss: 0.6809 - val_accuracy: 0.8601\n",
              "Epoch 9/10\n",
              "30/30 [==============================] - 6s 185ms/step - loss: 0.0017 - accuracy: 0.9999 - val_loss: 0.7248 - val_accuracy: 0.8592\n",
              "Epoch 10/10\n",
              "30/30 [==============================] - 5s 165ms/step - loss: 5.6530e-04 - accuracy: 1.0000 - val_loss: 0.7678 - val_accuracy: 0.8572\n"
            ]
          }
        ]
      },
      {
        "cell_type": "code",
        "source": [
          "from matplotlib import pyplot as plt\n",
          "plt.plot(history.history['accuracy'])\n",
          "\n",
          "plt.plot(history.history['val_accuracy'])\n",
          "plt.title('model accuracy')\n",
          "plt.ylabel('accuracy')\n",
          "plt.xlabel('epoch')\n",
          "plt.legend(['train', 'val'], loc='upper left')\n",
          "plt.show()"
        ],
        "metadata": {
          "colab": {
            "base_uri": "https://localhost:8080/",
            "height": 472
          },
          "id": "YU36bczumKRc",
          "executionInfo": {
            "status": "ok",
            "timestamp": 1709566643328,
            "user_tz": -240,
            "elapsed": 609,
            "user": {
              "displayName": "Kayan Irani",
              "userId": "16819603326667996950"
            }
          },
          "outputId": "2bb975da-072a-4cd8-e853-193573f8bce4"
        },
        "execution_count": null,
        "outputs": [
          {
            "output_type": "display_data",
            "data": {
              "text/plain": [
                "<Figure size 640x480 with 1 Axes>"
              ],
              "image/png": "[encoded data removed]"
            },
            "metadata": {}
          }
        ]
      },
      {
        "cell_type": "code",
        "source": [
          "plt.plot(history.history['loss'])\n",
          "\n",
          "plt.plot(history.history['val_loss'])\n",
          "plt.title('model loss')\n",
          "plt.ylabel('loss')\n",
          "plt.xlabel('epoch')\n",
          "plt.legend(['train', 'val'], loc='upper right')\n",
          "plt.show()"
        ],
        "metadata": {
          "colab": {
            "base_uri": "https://localhost:8080/",
            "height": 472
          },
          "id": "8AAe9LhOmKUT",
          "executionInfo": {
            "status": "ok",
            "timestamp": 1709566645314,
            "user_tz": -240,
            "elapsed": 745,
            "user": {
              "displayName": "Kayan Irani",
              "userId": "16819603326667996950"
            }
          },
          "outputId": "feb69a82-73fe-402f-805e-f0ccc65199ef"
        },
        "execution_count": null,
        "outputs": [
          {
            "output_type": "display_data",
            "data": {
              "text/plain": [
                "<Figure size 640x480 with 1 Axes>"
              ],
              "image/png": "[encoded data removed]"
            },
            "metadata": {}
          }
        ]
      },
      {
        "cell_type": "markdown",
        "source": [
          "## 2.4 RNN's with the LSTM Layer"
        ],
        "metadata": {
          "id": "R0chZ7bTmphd"
        }
      },
      {
        "cell_type": "markdown",
        "source": [
          "RNN's (Recurrent Neural Networks) are a type of network that can take sequences as input and remember prior parts of the sequence when making predictions."
        ],
        "metadata": {
          "id": "2X-tYv_InwH_"
        }
      },
      {
        "cell_type": "markdown",
        "source": [
          "LSTM layers are a type of recurrent layer that addresses the vanishing gradient problem and allows better memory from prior states."
        ],
        "metadata": {
          "id": "iD82hH8hnV1d"
        }
      },
      {
        "cell_type": "markdown",
        "source": [
          "![](https://miro.medium.com/v2/resize:fit:674/1*jikKbzFXCq-IYnFZankIMg.png)\n"
        ],
        "metadata": {
          "id": "ggwclWennV4k"
        }
      },
      {
        "cell_type": "code",
        "source": [
          "embedding = \"https://tfhub.dev/google/nnlm-en-dim50/2\"\n",
          "hub_layer = hub.KerasLayer(embedding, input_shape=[],\n",
          "                           dtype=tf.string, trainable=True)\n",
          "\n",
          "\n",
          "model = tf.keras.models.Sequential([])\n",
          "model.add(hub_layer)\n",
          "model.add(tf.keras.layers.Reshape((50, 1)))\n",
          "model.add(tf.keras.layers.LSTM(16))\n",
          "\n",
          "model.add(tf.keras.layers.Dense(16, activation='relu'))\n",
          "model.add(tf.keras.layers.Dense(1, activation='sigmoid'))\n",
          "\n",
          "model.summary()\n"
        ],
        "metadata": {
          "colab": {
            "base_uri": "https://localhost:8080/"
          },
          "id": "p7xSpTtWmKWv",
          "executionInfo": {
            "status": "ok",
            "timestamp": 1709567029433,
            "user_tz": -240,
            "elapsed": 976,
            "user": {
              "displayName": "Kayan Irani",
              "userId": "16819603326667996950"
            }
          },
          "outputId": "d9a6d41e-d076-4c40-f319-4fdb8bd16227"
        },
        "execution_count": null,
        "outputs": [
          {
            "output_type": "stream",
            "name": "stdout",
            "text": [
              "Model: \"sequential_5\"\n",
              "_________________________________________________________________\n",
              " Layer (type)                Output Shape              Param #   \n",
              "=================================================================\n",
              " keras_layer_2 (KerasLayer)  (None, 50)                48190600  \n",
              "                                                                 \n",
              " reshape_1 (Reshape)         (None, 50, 1)             0         \n",
              "                                                                 \n",
              " lstm_1 (LSTM)               (None, 16)                1152      \n",
              "                                                                 \n",
              " dense_14 (Dense)            (None, 16)                272       \n",
              "                                                                 \n",
              " dense_15 (Dense)            (None, 1)                 17        \n",
              "                                                                 \n",
              "=================================================================\n",
              "Total params: 48192041 (183.84 MB)\n",
              "Trainable params: 48192041 (183.84 MB)\n",
              "Non-trainable params: 0 (0.00 Byte)\n",
              "_________________________________________________________________\n"
            ]
          }
        ]
      },
      {
        "cell_type": "code",
        "source": [
          "model.compile(optimizer=tf.keras.optimizers.Adam(0.0005),\n",
          "              loss=tf.keras.losses.BinaryCrossentropy(from_logits=True),\n",
          "              metrics=['accuracy'])"
        ],
        "metadata": {
          "id": "rASlZ2SkmKZh"
        },
        "execution_count": null,
        "outputs": []
      },
      {
        "cell_type": "code",
        "source": [
          "history = model.fit(train_data.shuffle(10000).batch(512),\n",
          "                    epochs=10,\n",
          "                    validation_data=validation_data.batch(512),\n",
          "                    verbose=1)"
        ],
        "metadata": {
          "colab": {
            "base_uri": "https://localhost:8080/"
          },
          "id": "eHdiRQFImKgj",
          "executionInfo": {
            "status": "ok",
            "timestamp": 1709567110728,
            "user_tz": -240,
            "elapsed": 79575,
            "user": {
              "displayName": "Kayan Irani",
              "userId": "16819603326667996950"
            }
          },
          "outputId": "4790a0a1-c175-4cad-eac4-e30eaf7fd825"
        },
        "execution_count": null,
        "outputs": [
          {
            "output_type": "stream",
            "name": "stdout",
            "text": [
              "Epoch 1/10\n",
              "30/30 [==============================] - 9s 216ms/step - loss: 0.6928 - accuracy: 0.5043 - val_loss: 0.6916 - val_accuracy: 0.5512\n",
              "Epoch 2/10\n",
              "30/30 [==============================] - 6s 193ms/step - loss: 0.6879 - accuracy: 0.5925 - val_loss: 0.6812 - val_accuracy: 0.6426\n",
              "Epoch 3/10\n",
              "30/30 [==============================] - 6s 205ms/step - loss: 0.6622 - accuracy: 0.6781 - val_loss: 0.6318 - val_accuracy: 0.7070\n",
              "Epoch 4/10\n",
              "30/30 [==============================] - 6s 195ms/step - loss: 0.5489 - accuracy: 0.7720 - val_loss: 0.4957 - val_accuracy: 0.7904\n",
              "Epoch 5/10\n",
              "30/30 [==============================] - 6s 205ms/step - loss: 0.4011 - accuracy: 0.8538 - val_loss: 0.4377 - val_accuracy: 0.8236\n",
              "Epoch 6/10\n",
              "30/30 [==============================] - 5s 159ms/step - loss: 0.2919 - accuracy: 0.9005 - val_loss: 0.4013 - val_accuracy: 0.8293\n",
              "Epoch 7/10\n",
              "30/30 [==============================] - 6s 197ms/step - loss: 0.2149 - accuracy: 0.9330 - val_loss: 0.4094 - val_accuracy: 0.8427\n",
              "Epoch 8/10\n",
              "30/30 [==============================] - 6s 182ms/step - loss: 0.1555 - accuracy: 0.9559 - val_loss: 0.4375 - val_accuracy: 0.8429\n",
              "Epoch 9/10\n",
              "30/30 [==============================] - 6s 199ms/step - loss: 0.1173 - accuracy: 0.9711 - val_loss: 0.4656 - val_accuracy: 0.8419\n",
              "Epoch 10/10\n",
              "30/30 [==============================] - 7s 221ms/step - loss: 0.0913 - accuracy: 0.9787 - val_loss: 0.4900 - val_accuracy: 0.8416\n"
            ]
          }
        ]
      },
      {
        "cell_type": "code",
        "source": [
          "from matplotlib import pyplot as plt\n",
          "plt.plot(history.history['accuracy'])\n",
          "\n",
          "plt.plot(history.history['val_accuracy'])\n",
          "plt.title('model accuracy')\n",
          "plt.ylabel('accuracy')\n",
          "plt.xlabel('epoch')\n",
          "plt.legend(['train', 'val'], loc='upper left')\n",
          "plt.show()"
        ],
        "metadata": {
          "colab": {
            "base_uri": "https://localhost:8080/",
            "height": 472
          },
          "id": "lLkKwnJ2nBki",
          "executionInfo": {
            "status": "ok",
            "timestamp": 1709567110728,
            "user_tz": -240,
            "elapsed": 15,
            "user": {
              "displayName": "Kayan Irani",
              "userId": "16819603326667996950"
            }
          },
          "outputId": "3fbdffe8-c74d-4a05-d408-12bb67641c6f"
        },
        "execution_count": null,
        "outputs": [
          {
            "output_type": "display_data",
            "data": {
              "text/plain": [
                "<Figure size 640x480 with 1 Axes>"
              ],
              "image/png": "[encoded data removed]"
            },
            "metadata": {}
          }
        ]
      },
      {
        "cell_type": "code",
        "source": [
          "plt.plot(history.history['loss'])\n",
          "\n",
          "plt.plot(history.history['val_loss'])\n",
          "plt.title('model loss')\n",
          "plt.ylabel('loss')\n",
          "plt.xlabel('epoch')\n",
          "plt.legend(['train', 'val'], loc='upper right')\n",
          "plt.show()"
        ],
        "metadata": {
          "colab": {
            "base_uri": "https://localhost:8080/",
            "height": 472
          },
          "id": "Udo8qQefnBna",
          "executionInfo": {
            "status": "ok",
            "timestamp": 1709567111568,
            "user_tz": -240,
            "elapsed": 843,
            "user": {
              "displayName": "Kayan Irani",
              "userId": "16819603326667996950"
            }
          },
          "outputId": "3c702c81-a0fc-40a8-be3c-32428ea21f84"
        },
        "execution_count": null,
        "outputs": [
          {
            "output_type": "display_data",
            "data": {
              "text/plain": [
                "<Figure size 640x480 with 1 Axes>"
              ],
              "image/png": "[encoded data removed]"
            },
            "metadata": {}
          }
        ]
      },
      {
        "cell_type": "markdown",
        "source": [
          "## 2.5 Bi-directional LSTM's"
        ],
        "metadata": {
          "id": "PmIdPKhSnEu4"
        }
      },
      {
        "cell_type": "markdown",
        "source": [
          "Bi-directional LSTMs allow information to propagate both forwards and backwards to improve performance."
        ],
        "metadata": {
          "id": "XyrWDjRhphhs"
        }
      },
      {
        "cell_type": "code",
        "source": [
          "embedding = \"https://tfhub.dev/google/nnlm-en-dim50/2\"\n",
          "hub_layer = hub.KerasLayer(embedding, input_shape=[],\n",
          "                           dtype=tf.string, trainable=True)\n",
          "\n",
          "\n",
          "model = tf.keras.models.Sequential([])\n",
          "model.add(hub_layer)\n",
          "model.add(tf.keras.layers.Reshape((50, 1)))\n",
          "model.add(tf.keras.layers.Bidirectional(tf.keras.layers.LSTM(32, return_sequences = True)))\n",
          "model.add(tf.keras.layers.Bidirectional(tf.keras.layers.LSTM(16, return_sequences = True)))\n",
          "model.add(tf.keras.layers.Flatten())\n",
          "\n",
          "model.add(tf.keras.layers.Dense(8, activation='relu'))\n",
          "model.add(tf.keras.layers.Dense(1, activation='sigmoid'))\n",
          "\n",
          "model.summary()\n"
        ],
        "metadata": {
          "colab": {
            "base_uri": "https://localhost:8080/"
          },
          "id": "puq58shVnI8r",
          "executionInfo": {
            "status": "ok",
            "timestamp": 1709567317452,
            "user_tz": -240,
            "elapsed": 1562,
            "user": {
              "displayName": "Kayan Irani",
              "userId": "16819603326667996950"
            }
          },
          "outputId": "a8d789c7-ebf3-4a1a-bd1a-c095d1633fc6"
        },
        "execution_count": null,
        "outputs": [
          {
            "output_type": "stream",
            "name": "stdout",
            "text": [
              "Model: \"sequential_6\"\n",
              "_________________________________________________________________\n",
              " Layer (type)                Output Shape              Param #   \n",
              "=================================================================\n",
              " keras_layer_3 (KerasLayer)  (None, 50)                48190600  \n",
              "                                                                 \n",
              " reshape_2 (Reshape)         (None, 50, 1)             0         \n",
              "                                                                 \n",
              " bidirectional (Bidirection  (None, 50, 64)            8704      \n",
              " al)                                                             \n",
              "                                                                 \n",
              " bidirectional_1 (Bidirecti  (None, 50, 32)            10368     \n",
              " onal)                                                           \n",
              "                                                                 \n",
              " flatten (Flatten)           (None, 1600)              0         \n",
              "                                                                 \n",
              " dense_16 (Dense)            (None, 8)                 12808     \n",
              "                                                                 \n",
              " dense_17 (Dense)            (None, 1)                 9         \n",
              "                                                                 \n",
              "=================================================================\n",
              "Total params: 48222489 (183.95 MB)\n",
              "Trainable params: 48222489 (183.95 MB)\n",
              "Non-trainable params: 0 (0.00 Byte)\n",
              "_________________________________________________________________\n"
            ]
          }
        ]
      },
      {
        "cell_type": "code",
        "source": [
          "model.compile(optimizer=tf.keras.optimizers.Adam(0.0005),\n",
          "              loss=tf.keras.losses.BinaryCrossentropy(from_logits=True),\n",
          "              metrics=['accuracy'])"
        ],
        "metadata": {
          "id": "ggq_MbMjnJGT"
        },
        "execution_count": null,
        "outputs": []
      },
      {
        "cell_type": "code",
        "source": [
          "history = model.fit(train_data.shuffle(10000).batch(512),\n",
          "                    epochs=10,\n",
          "                    validation_data=validation_data.batch(512),\n",
          "                    verbose=1)"
        ],
        "metadata": {
          "colab": {
            "base_uri": "https://localhost:8080/"
          },
          "id": "u5bCvNL6nJJM",
          "executionInfo": {
            "status": "ok",
            "timestamp": 1709567414649,
            "user_tz": -240,
            "elapsed": 95669,
            "user": {
              "displayName": "Kayan Irani",
              "userId": "16819603326667996950"
            }
          },
          "outputId": "ffd47504-f20d-40c7-d7d4-46445d664317"
        },
        "execution_count": null,
        "outputs": [
          {
            "output_type": "stream",
            "name": "stdout",
            "text": [
              "Epoch 1/10\n",
              "30/30 [==============================] - 16s 280ms/step - loss: 0.6776 - accuracy: 0.6296 - val_loss: 0.6324 - val_accuracy: 0.6945\n",
              "Epoch 2/10\n",
              "30/30 [==============================] - 6s 183ms/step - loss: 0.5371 - accuracy: 0.7417 - val_loss: 0.4750 - val_accuracy: 0.7739\n",
              "Epoch 3/10\n",
              "30/30 [==============================] - 7s 218ms/step - loss: 0.3657 - accuracy: 0.8377 - val_loss: 0.4010 - val_accuracy: 0.8190\n",
              "Epoch 4/10\n",
              "30/30 [==============================] - 8s 260ms/step - loss: 0.2527 - accuracy: 0.8991 - val_loss: 0.3866 - val_accuracy: 0.8404\n",
              "Epoch 5/10\n",
              "30/30 [==============================] - 6s 195ms/step - loss: 0.1735 - accuracy: 0.9369 - val_loss: 0.4058 - val_accuracy: 0.8455\n",
              "Epoch 6/10\n",
              "30/30 [==============================] - 5s 176ms/step - loss: 0.1111 - accuracy: 0.9641 - val_loss: 0.4692 - val_accuracy: 0.8467\n",
              "Epoch 7/10\n",
              "30/30 [==============================] - 6s 176ms/step - loss: 0.0623 - accuracy: 0.9831 - val_loss: 0.5583 - val_accuracy: 0.8444\n",
              "Epoch 8/10\n",
              "30/30 [==============================] - 5s 159ms/step - loss: 0.0345 - accuracy: 0.9923 - val_loss: 0.6550 - val_accuracy: 0.8458\n",
              "Epoch 9/10\n",
              "30/30 [==============================] - 5s 175ms/step - loss: 0.0181 - accuracy: 0.9971 - val_loss: 0.7235 - val_accuracy: 0.8436\n",
              "Epoch 10/10\n",
              "30/30 [==============================] - 5s 170ms/step - loss: 0.0116 - accuracy: 0.9983 - val_loss: 0.7968 - val_accuracy: 0.8418\n"
            ]
          }
        ]
      },
      {
        "cell_type": "code",
        "source": [
          "from matplotlib import pyplot as plt\n",
          "plt.plot(history.history['accuracy'])\n",
          "\n",
          "plt.plot(history.history['val_accuracy'])\n",
          "plt.title('model accuracy')\n",
          "plt.ylabel('accuracy')\n",
          "plt.xlabel('epoch')\n",
          "plt.legend(['train', 'val'], loc='upper left')\n",
          "plt.show()"
        ],
        "metadata": {
          "colab": {
            "base_uri": "https://localhost:8080/",
            "height": 472
          },
          "id": "4Lk5jByjpU9w",
          "executionInfo": {
            "status": "ok",
            "timestamp": 1709567420179,
            "user_tz": -240,
            "elapsed": 867,
            "user": {
              "displayName": "Kayan Irani",
              "userId": "16819603326667996950"
            }
          },
          "outputId": "b8516085-af5c-49bf-d7c4-91fdf64bc8e0"
        },
        "execution_count": null,
        "outputs": [
          {
            "output_type": "display_data",
            "data": {
              "text/plain": [
                "<Figure size 640x480 with 1 Axes>"
              ],
              "image/png": "[encoded data removed]"
            },
            "metadata": {}
          }
        ]
      },
      {
        "cell_type": "code",
        "source": [
          "plt.plot(history.history['loss'])\n",
          "\n",
          "plt.plot(history.history['val_loss'])\n",
          "plt.title('model loss')\n",
          "plt.ylabel('loss')\n",
          "plt.xlabel('epoch')\n",
          "plt.legend(['train', 'val'], loc='upper right')\n",
          "plt.show()"
        ],
        "metadata": {
          "colab": {
            "base_uri": "https://localhost:8080/",
            "height": 472
          },
          "id": "1c8210BCnJN4",
          "executionInfo": {
            "status": "ok",
            "timestamp": 1709567422827,
            "user_tz": -240,
            "elapsed": 838,
            "user": {
              "displayName": "Kayan Irani",
              "userId": "16819603326667996950"
            }
          },
          "outputId": "7432f206-b03f-4d6f-808d-cd6348f05495"
        },
        "execution_count": null,
        "outputs": [
          {
            "output_type": "display_data",
            "data": {
              "text/plain": [
                "<Figure size 640x480 with 1 Axes>"
              ],
              "image/png": "[encoded data removed]"
            },
            "metadata": {}
          }
        ]
      },
      {
        "cell_type": "code",
        "source": [
          "max_num_words = 32 * 10**3\n",
          "vectorize_layer = tf.keras.layers.TextVectorization(\n",
          " max_tokens=max_num_words,\n",
          " output_mode='int',\n",
          " output_sequence_length=10)\n",
          "\n",
          "vector_size = 50\n",
          "embedding_layer = tf.keras.layers.Embedding(max_num_words, vector_size)\n",
          "\n",
          "vectorize_layer.adapt(text_dataset)\n",
          "\n",
          "model = tf.keras.models.Sequential([])\n",
          "model.add(vectorize_layer)\n",
          "model.add(embedding_layer)\n",
          "model.add(tf.keras.layers.LSTM(16))\n",
          "\n",
          "model.add(tf.keras.layers.Dense(256, activation='relu'))\n",
          "model.add(tf.keras.layers.Dense(128, activation='relu'))\n",
          "model.add(tf.keras.layers.Dense(64, activation='relu'))\n",
          "model.add(tf.keras.layers.Dense(1, activation='sigmoid'))\n"
        ],
        "metadata": {
          "id": "p_ynz9Xorocz"
        },
        "execution_count": null,
        "outputs": []
      },
      {
        "cell_type": "code",
        "source": [
          "model.compile(optimizer=tf.keras.optimizers.Adam(0.0005),\n",
          "              loss=tf.keras.losses.BinaryCrossentropy(from_logits=True),\n",
          "              metrics=['accuracy'])"
        ],
        "metadata": {
          "id": "N8ykhH1vKi1z"
        },
        "execution_count": null,
        "outputs": []
      },
      {
        "cell_type": "code",
        "source": [
          "history = model.fit(train_data.shuffle(10000).batch(512),\n",
          "                    epochs=10,\n",
          "                    validation_data=validation_data.batch(512),\n",
          "                    verbose=1)"
        ],
        "metadata": {
          "id": "UDMRgQNHKi5K"
        },
        "execution_count": null,
        "outputs": []
      },
      {
        "cell_type": "code",
        "source": [],
        "metadata": {
          "id": "ML1Q_uBHKi8f"
        },
        "execution_count": null,
        "outputs": []
      }
    ]
  }
  